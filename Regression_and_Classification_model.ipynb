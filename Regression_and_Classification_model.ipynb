{
 "cells": [
  {
   "cell_type": "markdown",
   "metadata": {
    "id": "Hhz6bRMFFOZK"
   },
   "source": [
    "**Datasets**\n",
    "The scikit-learn library includes a toy Diabetes dataset of baseline variables for diabetes patients along with a quantitative measure of disease progression one year after baseline.\n",
    "The UCI Machine Learning Repository includes an Ionosphere dataset of radar returns from the ionosphere collected by an array of high-frequency antennas. The radar returns have been labeled “Good” and “Bad”, based on whether they show evidence of structure in the ionosphere.\n",
    "**Tasks**\n",
    "**Regression**\n",
    "Construct two models for the Diabetes dataset relating body mass index and average blood pressure to the target measure of disease progression one year after baseline. The first model will use linear regression, and the second model will use a simple multi-layer perceptron.\n",
    "\n",
    "**Applying linear regression**\n",
    "Split the data into training and testing sets, then construct a linear regression model. Describe the performance of the model on each set. For this model, you may use the scikit-learn library.\n",
    "\n",
    "\n",
    "**Constructing a multilayer perceptron**\n",
    "For this task, you must implement each task manually in “vanilla” Python, without third-party machine learning or statistical modules, with the following exceptions:\n",
    "\n",
    "*   You may use scikit-learn to load and split the dataset\n",
    "*   You may use Matplotlib to plot a learning curve\n",
    "\n",
    "Construct a neural network consisting of two hidden layers, each with two neurons each, using sigmoid activation. The network should have a single output layer.\n",
    "Choose an appropriate loss function, then apply backpropagation manually to find an expression for the gradient of the loss function with respect to each of the weights.\n",
    "Implement gradient descent to optimize the weights, and plot a learning curve showing the training and test loss as a function of the number of epochs.\n",
    "Compare the performance of your neural network with the performance of the linear regression model on the training and testing sets.\n",
    "\n",
    "\n",
    "**Classification**\n",
    "Construct a dense feed-forward neural network model for the Ionosphere dataset classifying radar returns as“Good” or “Bad” based on the measured attributes.\n",
    "For this task, you should use either the Keras or PyTorch neural network frameworks. If you are new to machine learning, you may find Keras to be more approachable. If you have experience with machine learning, or if you plan to do a project or thesis involving neural networks, consider using PyTorch instead. You may also use scikit-learn and Matplotlib as described above.\n",
    "\n",
    "\n",
    "**Constructing a model**\n",
    "Split the dataset into training and test sets, then train a fully-connected neural network to classify the returns. You will need to determine the size and number of layers, activation functions, optimizer, and other hyperparameters.\n",
    "Plot learning curves for the training and test sets, and evaluate the performance of the model.\n",
    "\n",
    "**Tuning the model**\n",
    "Apply a variety of regularization techniques to improve the performance of your model on the test set. How does the precision and accuracy of the model compare with the Baseline Model Performance for Neural Network Classification shown on the UCI Machine Learning Repository page?\n",
    "\n",
    "\n",
    "\n",
    "**Platform**\n",
    "Perform the tasks above and document their results using a notebook on Google Colab with your @csu.fullerton.edu account. If you are not familiar with Google Colab or Jupyter Notebooks, the Welcome To Colaboratory notebook should help you get started. Note, in particular, the section Using Accelerated Hardware.\n",
    "While you may choose to work locally, especially if you have access to a physical machine with a GPU, your project submission must be uploaded to Google Drive and run successfully in Colab.\n",
    "Documenting your results\n",
    "Notebooks allow you to create documents mixing text, equations, code, and visualizations. Your project should make good use of these features. For example:\n",
    "Identify each task to be performed, documenting any decisions made.\n",
    "Include both the code to perform each task and its output. Where appropriate, tasks should be broken up into separate blocks, with the results shown for each.\n",
    "Include written analysis of results along with code output and visualizations.\n",
    "In short, a reader unfamiliar with the project should be able to read your notebook and understand what you did and what results you obtained.\n",
    "For help with rendering equations in your notebook, you may wish to consult this LaTeX Equation Cheat Sheet.\n",
    "At the end of the notebook, assign a percentage contribution to each member of the team. If your team cannot reach an agreement on each member’s level of contribution, describe the tasks that each member performed.\n"
   ]
  },
  {
   "cell_type": "markdown",
   "metadata": {
    "id": "hJG_IRxxGfnS"
   },
   "source": [
    "**Construct two models for the Diabetes dataset relating body mass index and average blood pressure to the target measure of disease progression one year after baseline. The first model will use linear regression, and the second model will use a simple multi-layer perceptron.**\n",
    "\n",
    "1. **Applying linear regression:**\n",
    "Split the data into training and testing sets, then construct a linear regression model. Describe the performance of the model on each set. For this model, you may use the scikit-learn library.\n",
    "\n",
    "First we load the Data:\n"
   ]
  },
  {
   "cell_type": "code",
   "execution_count": null,
   "metadata": {
    "colab": {
     "base_uri": "https://localhost:8080/",
     "height": 241
    },
    "id": "nc2JWjO6GXWO",
    "outputId": "e75860a8-4787-4c9f-a9bd-e7e66b2096f7"
   },
   "outputs": [
    {
     "name": "stdout",
     "output_type": "stream",
     "text": [
      "Shape of data: (442, 10)\n",
      "Shape of target: (442,)\n"
     ]
    },
    {
     "data": {
      "application/vnd.google.colaboratory.intrinsic+json": {
       "summary": "{\n  \"name\": \"display(X\",\n  \"rows\": 5,\n  \"fields\": [\n    {\n      \"column\": \"age\",\n      \"properties\": {\n        \"dtype\": \"number\",\n        \"std\": 0.06403991180428206,\n        \"min\": -0.0890629393522567,\n        \"max\": 0.08529890629667548,\n        \"num_unique_values\": 5,\n        \"samples\": [\n          -0.0018820165277906047,\n          0.005383060374248237,\n          0.08529890629667548\n        ],\n        \"semantic_type\": \"\",\n        \"description\": \"\"\n      }\n    },\n    {\n      \"column\": \"sex\",\n      \"properties\": {\n        \"dtype\": \"number\",\n        \"std\": 0.052209875569663035,\n        \"min\": -0.044641636506989144,\n        \"max\": 0.05068011873981862,\n        \"num_unique_values\": 2,\n        \"samples\": [\n          -0.044641636506989144,\n          0.05068011873981862\n        ],\n        \"semantic_type\": \"\",\n        \"description\": \"\"\n      }\n    },\n    {\n      \"column\": \"bmi\",\n      \"properties\": {\n        \"dtype\": \"number\",\n        \"std\": 0.04970221433529666,\n        \"min\": -0.051474061238800654,\n        \"max\": 0.061696206518683294,\n        \"num_unique_values\": 5,\n        \"samples\": [\n          -0.051474061238800654,\n          -0.03638469220446948\n        ],\n        \"semantic_type\": \"\",\n        \"description\": \"\"\n      }\n    },\n    {\n      \"column\": \"bp\",\n      \"properties\": {\n        \"dtype\": \"number\",\n        \"std\": 0.026933570835012948,\n        \"min\": -0.03665608107540074,\n        \"max\": 0.0218723855140367,\n        \"num_unique_values\": 4,\n        \"samples\": [\n          -0.02632752814785296,\n          -0.03665608107540074\n        ],\n        \"semantic_type\": \"\",\n        \"description\": \"\"\n      }\n    },\n    {\n      \"column\": \"s1\",\n      \"properties\": {\n        \"dtype\": \"number\",\n        \"std\": 0.027022677246424903,\n        \"min\": -0.04559945128264711,\n        \"max\": 0.01219056876179996,\n        \"num_unique_values\": 5,\n        \"samples\": [\n          -0.008448724111216851,\n          0.003934851612593237\n        ],\n        \"semantic_type\": \"\",\n        \"description\": \"\"\n      }\n    },\n    {\n      \"column\": \"s2\",\n      \"properties\": {\n        \"dtype\": \"number\",\n        \"std\": 0.02812362607636992,\n        \"min\": -0.03482076283769895,\n        \"max\": 0.02499059336410222,\n        \"num_unique_values\": 5,\n        \"samples\": [\n          -0.019163339748222204,\n          0.015596139510416171\n        ],\n        \"semantic_type\": \"\",\n        \"description\": \"\"\n      }\n    },\n    {\n      \"column\": \"s3\",\n      \"properties\": {\n        \"dtype\": \"number\",\n        \"std\": 0.049146762082866786,\n        \"min\": -0.04340084565202491,\n        \"max\": 0.07441156407875721,\n        \"num_unique_values\": 5,\n        \"samples\": [\n          0.07441156407875721,\n          0.008142083605192267\n        ],\n        \"semantic_type\": \"\",\n        \"description\": \"\"\n      }\n    },\n    {\n      \"column\": \"s4\",\n      \"properties\": {\n        \"dtype\": \"number\",\n        \"std\": 0.02609303280474044,\n        \"min\": -0.03949338287409329,\n        \"max\": 0.03430885887772673,\n        \"num_unique_values\": 3,\n        \"samples\": [\n          -0.002592261998183278,\n          -0.03949338287409329\n        ],\n        \"semantic_type\": \"\",\n        \"description\": \"\"\n      }\n    },\n    {\n      \"column\": \"s5\",\n      \"properties\": {\n        \"dtype\": \"number\",\n        \"std\": 0.03876098646766808,\n        \"min\": -0.0683315470939731,\n        \"max\": 0.022687744966501246,\n        \"num_unique_values\": 5,\n        \"samples\": [\n          -0.0683315470939731,\n          -0.03198763948805312\n        ],\n        \"semantic_type\": \"\",\n        \"description\": \"\"\n      }\n    },\n    {\n      \"column\": \"s6\",\n      \"properties\": {\n        \"dtype\": \"number\",\n        \"std\": 0.03313685531867565,\n        \"min\": -0.092204049626824,\n        \"max\": -0.009361911330134878,\n        \"num_unique_values\": 5,\n        \"samples\": [\n          -0.092204049626824,\n          -0.04664087356364498\n        ],\n        \"semantic_type\": \"\",\n        \"description\": \"\"\n      }\n    }\n  ]\n}",
       "type": "dataframe"
      },
      "text/html": [
       "\n",
       "  <div id=\"df-bc99ee32-3fbb-4159-8ea2-ca3eaf9f21d9\" class=\"colab-df-container\">\n",
       "    <div>\n",
       "<style scoped>\n",
       "    .dataframe tbody tr th:only-of-type {\n",
       "        vertical-align: middle;\n",
       "    }\n",
       "\n",
       "    .dataframe tbody tr th {\n",
       "        vertical-align: top;\n",
       "    }\n",
       "\n",
       "    .dataframe thead th {\n",
       "        text-align: right;\n",
       "    }\n",
       "</style>\n",
       "<table border=\"1\" class=\"dataframe\">\n",
       "  <thead>\n",
       "    <tr style=\"text-align: right;\">\n",
       "      <th></th>\n",
       "      <th>age</th>\n",
       "      <th>sex</th>\n",
       "      <th>bmi</th>\n",
       "      <th>bp</th>\n",
       "      <th>s1</th>\n",
       "      <th>s2</th>\n",
       "      <th>s3</th>\n",
       "      <th>s4</th>\n",
       "      <th>s5</th>\n",
       "      <th>s6</th>\n",
       "    </tr>\n",
       "  </thead>\n",
       "  <tbody>\n",
       "    <tr>\n",
       "      <th>0</th>\n",
       "      <td>0.038076</td>\n",
       "      <td>0.050680</td>\n",
       "      <td>0.061696</td>\n",
       "      <td>0.021872</td>\n",
       "      <td>-0.044223</td>\n",
       "      <td>-0.034821</td>\n",
       "      <td>-0.043401</td>\n",
       "      <td>-0.002592</td>\n",
       "      <td>0.019907</td>\n",
       "      <td>-0.017646</td>\n",
       "    </tr>\n",
       "    <tr>\n",
       "      <th>1</th>\n",
       "      <td>-0.001882</td>\n",
       "      <td>-0.044642</td>\n",
       "      <td>-0.051474</td>\n",
       "      <td>-0.026328</td>\n",
       "      <td>-0.008449</td>\n",
       "      <td>-0.019163</td>\n",
       "      <td>0.074412</td>\n",
       "      <td>-0.039493</td>\n",
       "      <td>-0.068332</td>\n",
       "      <td>-0.092204</td>\n",
       "    </tr>\n",
       "    <tr>\n",
       "      <th>2</th>\n",
       "      <td>0.085299</td>\n",
       "      <td>0.050680</td>\n",
       "      <td>0.044451</td>\n",
       "      <td>-0.005670</td>\n",
       "      <td>-0.045599</td>\n",
       "      <td>-0.034194</td>\n",
       "      <td>-0.032356</td>\n",
       "      <td>-0.002592</td>\n",
       "      <td>0.002861</td>\n",
       "      <td>-0.025930</td>\n",
       "    </tr>\n",
       "    <tr>\n",
       "      <th>3</th>\n",
       "      <td>-0.089063</td>\n",
       "      <td>-0.044642</td>\n",
       "      <td>-0.011595</td>\n",
       "      <td>-0.036656</td>\n",
       "      <td>0.012191</td>\n",
       "      <td>0.024991</td>\n",
       "      <td>-0.036038</td>\n",
       "      <td>0.034309</td>\n",
       "      <td>0.022688</td>\n",
       "      <td>-0.009362</td>\n",
       "    </tr>\n",
       "    <tr>\n",
       "      <th>4</th>\n",
       "      <td>0.005383</td>\n",
       "      <td>-0.044642</td>\n",
       "      <td>-0.036385</td>\n",
       "      <td>0.021872</td>\n",
       "      <td>0.003935</td>\n",
       "      <td>0.015596</td>\n",
       "      <td>0.008142</td>\n",
       "      <td>-0.002592</td>\n",
       "      <td>-0.031988</td>\n",
       "      <td>-0.046641</td>\n",
       "    </tr>\n",
       "  </tbody>\n",
       "</table>\n",
       "</div>\n",
       "    <div class=\"colab-df-buttons\">\n",
       "\n",
       "  <div class=\"colab-df-container\">\n",
       "    <button class=\"colab-df-convert\" onclick=\"convertToInteractive('df-bc99ee32-3fbb-4159-8ea2-ca3eaf9f21d9')\"\n",
       "            title=\"Convert this dataframe to an interactive table.\"\n",
       "            style=\"display:none;\">\n",
       "\n",
       "  <svg xmlns=\"http://www.w3.org/2000/svg\" height=\"24px\" viewBox=\"0 -960 960 960\">\n",
       "    <path d=\"M120-120v-720h720v720H120Zm60-500h600v-160H180v160Zm220 220h160v-160H400v160Zm0 220h160v-160H400v160ZM180-400h160v-160H180v160Zm440 0h160v-160H620v160ZM180-180h160v-160H180v160Zm440 0h160v-160H620v160Z\"/>\n",
       "  </svg>\n",
       "    </button>\n",
       "\n",
       "  <style>\n",
       "    .colab-df-container {\n",
       "      display:flex;\n",
       "      gap: 12px;\n",
       "    }\n",
       "\n",
       "    .colab-df-convert {\n",
       "      background-color: #E8F0FE;\n",
       "      border: none;\n",
       "      border-radius: 50%;\n",
       "      cursor: pointer;\n",
       "      display: none;\n",
       "      fill: #1967D2;\n",
       "      height: 32px;\n",
       "      padding: 0 0 0 0;\n",
       "      width: 32px;\n",
       "    }\n",
       "\n",
       "    .colab-df-convert:hover {\n",
       "      background-color: #E2EBFA;\n",
       "      box-shadow: 0px 1px 2px rgba(60, 64, 67, 0.3), 0px 1px 3px 1px rgba(60, 64, 67, 0.15);\n",
       "      fill: #174EA6;\n",
       "    }\n",
       "\n",
       "    .colab-df-buttons div {\n",
       "      margin-bottom: 4px;\n",
       "    }\n",
       "\n",
       "    [theme=dark] .colab-df-convert {\n",
       "      background-color: #3B4455;\n",
       "      fill: #D2E3FC;\n",
       "    }\n",
       "\n",
       "    [theme=dark] .colab-df-convert:hover {\n",
       "      background-color: #434B5C;\n",
       "      box-shadow: 0px 1px 3px 1px rgba(0, 0, 0, 0.15);\n",
       "      filter: drop-shadow(0px 1px 2px rgba(0, 0, 0, 0.3));\n",
       "      fill: #FFFFFF;\n",
       "    }\n",
       "  </style>\n",
       "\n",
       "    <script>\n",
       "      const buttonEl =\n",
       "        document.querySelector('#df-bc99ee32-3fbb-4159-8ea2-ca3eaf9f21d9 button.colab-df-convert');\n",
       "      buttonEl.style.display =\n",
       "        google.colab.kernel.accessAllowed ? 'block' : 'none';\n",
       "\n",
       "      async function convertToInteractive(key) {\n",
       "        const element = document.querySelector('#df-bc99ee32-3fbb-4159-8ea2-ca3eaf9f21d9');\n",
       "        const dataTable =\n",
       "          await google.colab.kernel.invokeFunction('convertToInteractive',\n",
       "                                                    [key], {});\n",
       "        if (!dataTable) return;\n",
       "\n",
       "        const docLinkHtml = 'Like what you see? Visit the ' +\n",
       "          '<a target=\"_blank\" href=https://colab.research.google.com/notebooks/data_table.ipynb>data table notebook</a>'\n",
       "          + ' to learn more about interactive tables.';\n",
       "        element.innerHTML = '';\n",
       "        dataTable['output_type'] = 'display_data';\n",
       "        await google.colab.output.renderOutput(dataTable, element);\n",
       "        const docLink = document.createElement('div');\n",
       "        docLink.innerHTML = docLinkHtml;\n",
       "        element.appendChild(docLink);\n",
       "      }\n",
       "    </script>\n",
       "  </div>\n",
       "\n",
       "\n",
       "<div id=\"df-f91b7098-5b37-4dbe-8fac-3ff79bcda376\">\n",
       "  <button class=\"colab-df-quickchart\" onclick=\"quickchart('df-f91b7098-5b37-4dbe-8fac-3ff79bcda376')\"\n",
       "            title=\"Suggest charts\"\n",
       "            style=\"display:none;\">\n",
       "\n",
       "<svg xmlns=\"http://www.w3.org/2000/svg\" height=\"24px\"viewBox=\"0 0 24 24\"\n",
       "     width=\"24px\">\n",
       "    <g>\n",
       "        <path d=\"M19 3H5c-1.1 0-2 .9-2 2v14c0 1.1.9 2 2 2h14c1.1 0 2-.9 2-2V5c0-1.1-.9-2-2-2zM9 17H7v-7h2v7zm4 0h-2V7h2v10zm4 0h-2v-4h2v4z\"/>\n",
       "    </g>\n",
       "</svg>\n",
       "  </button>\n",
       "\n",
       "<style>\n",
       "  .colab-df-quickchart {\n",
       "      --bg-color: #E8F0FE;\n",
       "      --fill-color: #1967D2;\n",
       "      --hover-bg-color: #E2EBFA;\n",
       "      --hover-fill-color: #174EA6;\n",
       "      --disabled-fill-color: #AAA;\n",
       "      --disabled-bg-color: #DDD;\n",
       "  }\n",
       "\n",
       "  [theme=dark] .colab-df-quickchart {\n",
       "      --bg-color: #3B4455;\n",
       "      --fill-color: #D2E3FC;\n",
       "      --hover-bg-color: #434B5C;\n",
       "      --hover-fill-color: #FFFFFF;\n",
       "      --disabled-bg-color: #3B4455;\n",
       "      --disabled-fill-color: #666;\n",
       "  }\n",
       "\n",
       "  .colab-df-quickchart {\n",
       "    background-color: var(--bg-color);\n",
       "    border: none;\n",
       "    border-radius: 50%;\n",
       "    cursor: pointer;\n",
       "    display: none;\n",
       "    fill: var(--fill-color);\n",
       "    height: 32px;\n",
       "    padding: 0;\n",
       "    width: 32px;\n",
       "  }\n",
       "\n",
       "  .colab-df-quickchart:hover {\n",
       "    background-color: var(--hover-bg-color);\n",
       "    box-shadow: 0 1px 2px rgba(60, 64, 67, 0.3), 0 1px 3px 1px rgba(60, 64, 67, 0.15);\n",
       "    fill: var(--button-hover-fill-color);\n",
       "  }\n",
       "\n",
       "  .colab-df-quickchart-complete:disabled,\n",
       "  .colab-df-quickchart-complete:disabled:hover {\n",
       "    background-color: var(--disabled-bg-color);\n",
       "    fill: var(--disabled-fill-color);\n",
       "    box-shadow: none;\n",
       "  }\n",
       "\n",
       "  .colab-df-spinner {\n",
       "    border: 2px solid var(--fill-color);\n",
       "    border-color: transparent;\n",
       "    border-bottom-color: var(--fill-color);\n",
       "    animation:\n",
       "      spin 1s steps(1) infinite;\n",
       "  }\n",
       "\n",
       "  @keyframes spin {\n",
       "    0% {\n",
       "      border-color: transparent;\n",
       "      border-bottom-color: var(--fill-color);\n",
       "      border-left-color: var(--fill-color);\n",
       "    }\n",
       "    20% {\n",
       "      border-color: transparent;\n",
       "      border-left-color: var(--fill-color);\n",
       "      border-top-color: var(--fill-color);\n",
       "    }\n",
       "    30% {\n",
       "      border-color: transparent;\n",
       "      border-left-color: var(--fill-color);\n",
       "      border-top-color: var(--fill-color);\n",
       "      border-right-color: var(--fill-color);\n",
       "    }\n",
       "    40% {\n",
       "      border-color: transparent;\n",
       "      border-right-color: var(--fill-color);\n",
       "      border-top-color: var(--fill-color);\n",
       "    }\n",
       "    60% {\n",
       "      border-color: transparent;\n",
       "      border-right-color: var(--fill-color);\n",
       "    }\n",
       "    80% {\n",
       "      border-color: transparent;\n",
       "      border-right-color: var(--fill-color);\n",
       "      border-bottom-color: var(--fill-color);\n",
       "    }\n",
       "    90% {\n",
       "      border-color: transparent;\n",
       "      border-bottom-color: var(--fill-color);\n",
       "    }\n",
       "  }\n",
       "</style>\n",
       "\n",
       "  <script>\n",
       "    async function quickchart(key) {\n",
       "      const quickchartButtonEl =\n",
       "        document.querySelector('#' + key + ' button');\n",
       "      quickchartButtonEl.disabled = true;  // To prevent multiple clicks.\n",
       "      quickchartButtonEl.classList.add('colab-df-spinner');\n",
       "      try {\n",
       "        const charts = await google.colab.kernel.invokeFunction(\n",
       "            'suggestCharts', [key], {});\n",
       "      } catch (error) {\n",
       "        console.error('Error during call to suggestCharts:', error);\n",
       "      }\n",
       "      quickchartButtonEl.classList.remove('colab-df-spinner');\n",
       "      quickchartButtonEl.classList.add('colab-df-quickchart-complete');\n",
       "    }\n",
       "    (() => {\n",
       "      let quickchartButtonEl =\n",
       "        document.querySelector('#df-f91b7098-5b37-4dbe-8fac-3ff79bcda376 button');\n",
       "      quickchartButtonEl.style.display =\n",
       "        google.colab.kernel.accessAllowed ? 'block' : 'none';\n",
       "    })();\n",
       "  </script>\n",
       "</div>\n",
       "    </div>\n",
       "  </div>\n"
      ],
      "text/plain": [
       "        age       sex       bmi        bp        s1        s2        s3  \\\n",
       "0  0.038076  0.050680  0.061696  0.021872 -0.044223 -0.034821 -0.043401   \n",
       "1 -0.001882 -0.044642 -0.051474 -0.026328 -0.008449 -0.019163  0.074412   \n",
       "2  0.085299  0.050680  0.044451 -0.005670 -0.045599 -0.034194 -0.032356   \n",
       "3 -0.089063 -0.044642 -0.011595 -0.036656  0.012191  0.024991 -0.036038   \n",
       "4  0.005383 -0.044642 -0.036385  0.021872  0.003935  0.015596  0.008142   \n",
       "\n",
       "         s4        s5        s6  \n",
       "0 -0.002592  0.019907 -0.017646  \n",
       "1 -0.039493 -0.068332 -0.092204  \n",
       "2 -0.002592  0.002861 -0.025930  \n",
       "3  0.034309  0.022688 -0.009362  \n",
       "4 -0.002592 -0.031988 -0.046641  "
      ]
     },
     "metadata": {},
     "output_type": "display_data"
    }
   ],
   "source": [
    "from sklearn.datasets import load_diabetes\n",
    "from sklearn.model_selection import train_test_split\n",
    "X, y = load_diabetes(return_X_y=True, as_frame=True)\n",
    "print(\"Shape of data:\", X.shape)\n",
    "print(\"Shape of target:\", y.shape)\n",
    "display(X.head())"
   ]
  },
  {
   "cell_type": "markdown",
   "metadata": {
    "id": "0ZyVVdbDSXX-"
   },
   "source": [
    "We split the data into Train and Test. 95% of data will be allocated to Training, and 5% will be used for testing."
   ]
  },
  {
   "cell_type": "code",
   "execution_count": null,
   "metadata": {
    "colab": {
     "base_uri": "https://localhost:8080/"
    },
    "id": "6dDXqVTn0a0D",
    "outputId": "63068f97-e228-4759-c3b9-493db12223a6"
   },
   "outputs": [
    {
     "name": "stdout",
     "output_type": "stream",
     "text": [
      "X_train shape: (419, 2)\n",
      "X_test shape: (23, 2)\n",
      "y_train shape: (419,)\n",
      "y_test shape: (23,)\n"
     ]
    }
   ],
   "source": [
    "X_bmi_bp = X[[\"bmi\", \"bp\"]]\n",
    "X_train, X_test, y_train, y_test = train_test_split(X_bmi_bp, y, random_state=104, test_size=0.05, shuffle=False)\n",
    "print(\"X_train shape:\", X_train.shape)\n",
    "print(\"X_test shape:\", X_test.shape)\n",
    "print(\"y_train shape:\", y_train.shape)\n",
    "print(\"y_test shape:\", y_test.shape)"
   ]
  },
  {
   "cell_type": "markdown",
   "metadata": {
    "id": "XqBbJ1hQSiBZ"
   },
   "source": [
    "We train the model using the bmi and bp columns. Then we look at R2 value to get an idea of how well the model is fitted"
   ]
  },
  {
   "cell_type": "code",
   "execution_count": null,
   "metadata": {
    "colab": {
     "base_uri": "https://localhost:8080/",
     "height": 69
    },
    "id": "M4EZEpZQ190y",
    "outputId": "970b80a9-2c0e-4d05-b3ba-496849aaa213"
   },
   "outputs": [
    {
     "data": {
      "text/plain": [
       "0.3875124891430911"
      ]
     },
     "metadata": {},
     "output_type": "display_data"
    },
    {
     "data": {
      "text/plain": [
       "array([779.83605909, 407.19585031])"
      ]
     },
     "metadata": {},
     "output_type": "display_data"
    },
    {
     "data": {
      "text/plain": [
       "152.8342658697222"
      ]
     },
     "metadata": {},
     "output_type": "display_data"
    }
   ],
   "source": [
    "import sklearn.linear_model\n",
    "reg = sklearn.linear_model.LinearRegression().fit(X_train, y_train)\n",
    "display(reg.score(X_train, y_train))\n",
    "display(reg.coef_)\n",
    "display(reg.intercept_)"
   ]
  },
  {
   "cell_type": "markdown",
   "metadata": {
    "id": "ZnkVhasfTGhW"
   },
   "source": [
    "Score of 0.3875125661010911 is not perticularly good but we are using 2 features out of the 10 available features. We also see the coefficient and intercept. Next step is to predict against the test set."
   ]
  },
  {
   "cell_type": "code",
   "execution_count": null,
   "metadata": {
    "colab": {
     "base_uri": "https://localhost:8080/",
     "height": 241
    },
    "id": "h4Re36zA5xlI",
    "outputId": "5cddc212-0893-41cb-bd53-ea558258fb41"
   },
   "outputs": [
    {
     "data": {
      "text/plain": [
       "2418.739108158907"
      ]
     },
     "metadata": {},
     "output_type": "display_data"
    },
    {
     "data": {
      "text/plain": [
       "0.5008282428801697"
      ]
     },
     "metadata": {},
     "output_type": "display_data"
    },
    {
     "data": {
      "application/vnd.google.colaboratory.intrinsic+json": {
       "summary": "{\n  \"name\": \"display(X_test\",\n  \"rows\": 5,\n  \"fields\": [\n    {\n      \"column\": \"bmi\",\n      \"properties\": {\n        \"dtype\": \"number\",\n        \"std\": 0.05466643288469451,\n        \"min\": -0.05470749746044306,\n        \"max\": 0.07786338762689529,\n        \"num_unique_values\": 5,\n        \"samples\": [\n          -0.03638469220446948,\n          -0.039618128426111884,\n          0.016428099415689682\n        ],\n        \"semantic_type\": \"\",\n        \"description\": \"\"\n      }\n    },\n    {\n      \"column\": \"bp\",\n      \"properties\": {\n        \"dtype\": \"number\",\n        \"std\": 0.04033440318841279,\n        \"min\": -0.05387033595464705,\n        \"max\": 0.052858044296680055,\n        \"num_unique_values\": 5,\n        \"samples\": [\n          7.913883691088233e-05,\n          0.028758087465735226,\n          0.0218723855140367\n        ],\n        \"semantic_type\": \"\",\n        \"description\": \"\"\n      }\n    }\n  ]\n}",
       "type": "dataframe"
      },
      "text/html": [
       "\n",
       "  <div id=\"df-0c11d482-7f33-4a53-9972-9cf3172c2dbd\" class=\"colab-df-container\">\n",
       "    <div>\n",
       "<style scoped>\n",
       "    .dataframe tbody tr th:only-of-type {\n",
       "        vertical-align: middle;\n",
       "    }\n",
       "\n",
       "    .dataframe tbody tr th {\n",
       "        vertical-align: top;\n",
       "    }\n",
       "\n",
       "    .dataframe thead th {\n",
       "        text-align: right;\n",
       "    }\n",
       "</style>\n",
       "<table border=\"1\" class=\"dataframe\">\n",
       "  <thead>\n",
       "    <tr style=\"text-align: right;\">\n",
       "      <th></th>\n",
       "      <th>bmi</th>\n",
       "      <th>bp</th>\n",
       "    </tr>\n",
       "  </thead>\n",
       "  <tbody>\n",
       "    <tr>\n",
       "      <th>419</th>\n",
       "      <td>-0.054707</td>\n",
       "      <td>-0.053870</td>\n",
       "    </tr>\n",
       "    <tr>\n",
       "      <th>420</th>\n",
       "      <td>-0.036385</td>\n",
       "      <td>0.000079</td>\n",
       "    </tr>\n",
       "    <tr>\n",
       "      <th>421</th>\n",
       "      <td>0.016428</td>\n",
       "      <td>0.021872</td>\n",
       "    </tr>\n",
       "    <tr>\n",
       "      <th>422</th>\n",
       "      <td>0.077863</td>\n",
       "      <td>0.052858</td>\n",
       "    </tr>\n",
       "    <tr>\n",
       "      <th>423</th>\n",
       "      <td>-0.039618</td>\n",
       "      <td>0.028758</td>\n",
       "    </tr>\n",
       "  </tbody>\n",
       "</table>\n",
       "</div>\n",
       "    <div class=\"colab-df-buttons\">\n",
       "\n",
       "  <div class=\"colab-df-container\">\n",
       "    <button class=\"colab-df-convert\" onclick=\"convertToInteractive('df-0c11d482-7f33-4a53-9972-9cf3172c2dbd')\"\n",
       "            title=\"Convert this dataframe to an interactive table.\"\n",
       "            style=\"display:none;\">\n",
       "\n",
       "  <svg xmlns=\"http://www.w3.org/2000/svg\" height=\"24px\" viewBox=\"0 -960 960 960\">\n",
       "    <path d=\"M120-120v-720h720v720H120Zm60-500h600v-160H180v160Zm220 220h160v-160H400v160Zm0 220h160v-160H400v160ZM180-400h160v-160H180v160Zm440 0h160v-160H620v160ZM180-180h160v-160H180v160Zm440 0h160v-160H620v160Z\"/>\n",
       "  </svg>\n",
       "    </button>\n",
       "\n",
       "  <style>\n",
       "    .colab-df-container {\n",
       "      display:flex;\n",
       "      gap: 12px;\n",
       "    }\n",
       "\n",
       "    .colab-df-convert {\n",
       "      background-color: #E8F0FE;\n",
       "      border: none;\n",
       "      border-radius: 50%;\n",
       "      cursor: pointer;\n",
       "      display: none;\n",
       "      fill: #1967D2;\n",
       "      height: 32px;\n",
       "      padding: 0 0 0 0;\n",
       "      width: 32px;\n",
       "    }\n",
       "\n",
       "    .colab-df-convert:hover {\n",
       "      background-color: #E2EBFA;\n",
       "      box-shadow: 0px 1px 2px rgba(60, 64, 67, 0.3), 0px 1px 3px 1px rgba(60, 64, 67, 0.15);\n",
       "      fill: #174EA6;\n",
       "    }\n",
       "\n",
       "    .colab-df-buttons div {\n",
       "      margin-bottom: 4px;\n",
       "    }\n",
       "\n",
       "    [theme=dark] .colab-df-convert {\n",
       "      background-color: #3B4455;\n",
       "      fill: #D2E3FC;\n",
       "    }\n",
       "\n",
       "    [theme=dark] .colab-df-convert:hover {\n",
       "      background-color: #434B5C;\n",
       "      box-shadow: 0px 1px 3px 1px rgba(0, 0, 0, 0.15);\n",
       "      filter: drop-shadow(0px 1px 2px rgba(0, 0, 0, 0.3));\n",
       "      fill: #FFFFFF;\n",
       "    }\n",
       "  </style>\n",
       "\n",
       "    <script>\n",
       "      const buttonEl =\n",
       "        document.querySelector('#df-0c11d482-7f33-4a53-9972-9cf3172c2dbd button.colab-df-convert');\n",
       "      buttonEl.style.display =\n",
       "        google.colab.kernel.accessAllowed ? 'block' : 'none';\n",
       "\n",
       "      async function convertToInteractive(key) {\n",
       "        const element = document.querySelector('#df-0c11d482-7f33-4a53-9972-9cf3172c2dbd');\n",
       "        const dataTable =\n",
       "          await google.colab.kernel.invokeFunction('convertToInteractive',\n",
       "                                                    [key], {});\n",
       "        if (!dataTable) return;\n",
       "\n",
       "        const docLinkHtml = 'Like what you see? Visit the ' +\n",
       "          '<a target=\"_blank\" href=https://colab.research.google.com/notebooks/data_table.ipynb>data table notebook</a>'\n",
       "          + ' to learn more about interactive tables.';\n",
       "        element.innerHTML = '';\n",
       "        dataTable['output_type'] = 'display_data';\n",
       "        await google.colab.output.renderOutput(dataTable, element);\n",
       "        const docLink = document.createElement('div');\n",
       "        docLink.innerHTML = docLinkHtml;\n",
       "        element.appendChild(docLink);\n",
       "      }\n",
       "    </script>\n",
       "  </div>\n",
       "\n",
       "\n",
       "<div id=\"df-c9001df6-2e83-4f44-a1c2-6066f9d8420e\">\n",
       "  <button class=\"colab-df-quickchart\" onclick=\"quickchart('df-c9001df6-2e83-4f44-a1c2-6066f9d8420e')\"\n",
       "            title=\"Suggest charts\"\n",
       "            style=\"display:none;\">\n",
       "\n",
       "<svg xmlns=\"http://www.w3.org/2000/svg\" height=\"24px\"viewBox=\"0 0 24 24\"\n",
       "     width=\"24px\">\n",
       "    <g>\n",
       "        <path d=\"M19 3H5c-1.1 0-2 .9-2 2v14c0 1.1.9 2 2 2h14c1.1 0 2-.9 2-2V5c0-1.1-.9-2-2-2zM9 17H7v-7h2v7zm4 0h-2V7h2v10zm4 0h-2v-4h2v4z\"/>\n",
       "    </g>\n",
       "</svg>\n",
       "  </button>\n",
       "\n",
       "<style>\n",
       "  .colab-df-quickchart {\n",
       "      --bg-color: #E8F0FE;\n",
       "      --fill-color: #1967D2;\n",
       "      --hover-bg-color: #E2EBFA;\n",
       "      --hover-fill-color: #174EA6;\n",
       "      --disabled-fill-color: #AAA;\n",
       "      --disabled-bg-color: #DDD;\n",
       "  }\n",
       "\n",
       "  [theme=dark] .colab-df-quickchart {\n",
       "      --bg-color: #3B4455;\n",
       "      --fill-color: #D2E3FC;\n",
       "      --hover-bg-color: #434B5C;\n",
       "      --hover-fill-color: #FFFFFF;\n",
       "      --disabled-bg-color: #3B4455;\n",
       "      --disabled-fill-color: #666;\n",
       "  }\n",
       "\n",
       "  .colab-df-quickchart {\n",
       "    background-color: var(--bg-color);\n",
       "    border: none;\n",
       "    border-radius: 50%;\n",
       "    cursor: pointer;\n",
       "    display: none;\n",
       "    fill: var(--fill-color);\n",
       "    height: 32px;\n",
       "    padding: 0;\n",
       "    width: 32px;\n",
       "  }\n",
       "\n",
       "  .colab-df-quickchart:hover {\n",
       "    background-color: var(--hover-bg-color);\n",
       "    box-shadow: 0 1px 2px rgba(60, 64, 67, 0.3), 0 1px 3px 1px rgba(60, 64, 67, 0.15);\n",
       "    fill: var(--button-hover-fill-color);\n",
       "  }\n",
       "\n",
       "  .colab-df-quickchart-complete:disabled,\n",
       "  .colab-df-quickchart-complete:disabled:hover {\n",
       "    background-color: var(--disabled-bg-color);\n",
       "    fill: var(--disabled-fill-color);\n",
       "    box-shadow: none;\n",
       "  }\n",
       "\n",
       "  .colab-df-spinner {\n",
       "    border: 2px solid var(--fill-color);\n",
       "    border-color: transparent;\n",
       "    border-bottom-color: var(--fill-color);\n",
       "    animation:\n",
       "      spin 1s steps(1) infinite;\n",
       "  }\n",
       "\n",
       "  @keyframes spin {\n",
       "    0% {\n",
       "      border-color: transparent;\n",
       "      border-bottom-color: var(--fill-color);\n",
       "      border-left-color: var(--fill-color);\n",
       "    }\n",
       "    20% {\n",
       "      border-color: transparent;\n",
       "      border-left-color: var(--fill-color);\n",
       "      border-top-color: var(--fill-color);\n",
       "    }\n",
       "    30% {\n",
       "      border-color: transparent;\n",
       "      border-left-color: var(--fill-color);\n",
       "      border-top-color: var(--fill-color);\n",
       "      border-right-color: var(--fill-color);\n",
       "    }\n",
       "    40% {\n",
       "      border-color: transparent;\n",
       "      border-right-color: var(--fill-color);\n",
       "      border-top-color: var(--fill-color);\n",
       "    }\n",
       "    60% {\n",
       "      border-color: transparent;\n",
       "      border-right-color: var(--fill-color);\n",
       "    }\n",
       "    80% {\n",
       "      border-color: transparent;\n",
       "      border-right-color: var(--fill-color);\n",
       "      border-bottom-color: var(--fill-color);\n",
       "    }\n",
       "    90% {\n",
       "      border-color: transparent;\n",
       "      border-bottom-color: var(--fill-color);\n",
       "    }\n",
       "  }\n",
       "</style>\n",
       "\n",
       "  <script>\n",
       "    async function quickchart(key) {\n",
       "      const quickchartButtonEl =\n",
       "        document.querySelector('#' + key + ' button');\n",
       "      quickchartButtonEl.disabled = true;  // To prevent multiple clicks.\n",
       "      quickchartButtonEl.classList.add('colab-df-spinner');\n",
       "      try {\n",
       "        const charts = await google.colab.kernel.invokeFunction(\n",
       "            'suggestCharts', [key], {});\n",
       "      } catch (error) {\n",
       "        console.error('Error during call to suggestCharts:', error);\n",
       "      }\n",
       "      quickchartButtonEl.classList.remove('colab-df-spinner');\n",
       "      quickchartButtonEl.classList.add('colab-df-quickchart-complete');\n",
       "    }\n",
       "    (() => {\n",
       "      let quickchartButtonEl =\n",
       "        document.querySelector('#df-c9001df6-2e83-4f44-a1c2-6066f9d8420e button');\n",
       "      quickchartButtonEl.style.display =\n",
       "        google.colab.kernel.accessAllowed ? 'block' : 'none';\n",
       "    })();\n",
       "  </script>\n",
       "</div>\n",
       "    </div>\n",
       "  </div>\n"
      ],
      "text/plain": [
       "          bmi        bp\n",
       "419 -0.054707 -0.053870\n",
       "420 -0.036385  0.000079\n",
       "421  0.016428  0.021872\n",
       "422  0.077863  0.052858\n",
       "423 -0.039618  0.028758"
      ]
     },
     "metadata": {},
     "output_type": "display_data"
    }
   ],
   "source": [
    "from sklearn.metrics import mean_squared_error\n",
    "from sklearn.metrics import r2_score\n",
    "y_pred = reg.predict(X_test)\n",
    "display(mean_squared_error(y_test, y_pred))\n",
    "display(r2_score(y_test, y_pred))\n",
    "display(X_test.head())"
   ]
  },
  {
   "cell_type": "markdown",
   "metadata": {
    "id": "9dKgo-XbTfza"
   },
   "source": [
    "**After** Testing against the test set, we get an MSE score of 2418 which is fairly large but again we are only using 2 feaures out of 10. We are also seeing an r2 score of 0.5."
   ]
  },
  {
   "cell_type": "markdown",
   "metadata": {
    "id": "8DCkDcVzUO1I"
   },
   "source": [
    "**Constructing a multilayer perceptron**\n",
    "For this task, you must implement each task manually in “vanilla” Python, without third-party machine learning or statistical modules, with the following exceptions:\n",
    "\n",
    "You may use scikit-learn to load and split the dataset\n",
    "You may use Matplotlib to plot a learning curve\n",
    "Construct a neural network consisting of two hidden layers, each with two neurons each, using sigmoid activation. The network should have a single output layer. Choose an appropriate loss function, then apply backpropagation manually to find an expression for the gradient of the loss function with respect to each of the weights. Implement gradient descent to optimize the weights, and plot a learning curve showing the training and test loss as a function of the number of epochs. Compare the performance of your neural network with the performance of the linear regression model on the training and testing sets.\n",
    "\n",
    "Now we move on to the multilayer perceptron version of this model and see if we can improve on the performance.\n",
    "We will create test and train set the same as before."
   ]
  },
  {
   "cell_type": "code",
   "execution_count": null,
   "metadata": {
    "colab": {
     "base_uri": "https://localhost:8080/"
    },
    "id": "c2pOD-ssr7o3",
    "outputId": "75c165d1-5946-4643-b3d9-5917a5bf99b5"
   },
   "outputs": [
    {
     "name": "stdout",
     "output_type": "stream",
     "text": [
      "X_train shape: (419, 2)\n",
      "X_test shape: (23, 2)\n",
      "y_train shape: (419,)\n",
      "y_test shape: (23,)\n"
     ]
    }
   ],
   "source": [
    "from sklearn.datasets import load_diabetes\n",
    "from sklearn.model_selection import train_test_split\n",
    "X, y = load_diabetes(return_X_y=True)\n",
    "X_bmi_bp = X[:, [2, 3]]\n",
    "X_train, X_test, y_train, y_test = train_test_split(X_bmi_bp, y, random_state=104, test_size=0.05, shuffle=False)\n",
    "print(\"X_train shape:\", X_train.shape)\n",
    "print(\"X_test shape:\", X_test.shape)\n",
    "print(\"y_train shape:\", y_train.shape)\n",
    "print(\"y_test shape:\", y_test.shape)"
   ]
  },
  {
   "cell_type": "markdown",
   "metadata": {
    "id": "fyFbcMnp_nfx"
   },
   "source": [
    "For this tasks, after lengthy trials of different methods, the best method was to create an expression graph data structure. To create an expression graph and data structure, we followed the guides of Andrej Karpathy:  https://www.youtube.com/watch?v=VMj-3S1tku0\n",
    "\n",
    "Data structure for neural network:\n",
    "This class is the mathemathical expression graph for forward prop and backprop. For us to be able to apply the chain rule, we need to be able to know all the values of all the connected functions. This data structure allows us to move up or down the chain and store gradient and other values for each graph node. the value object is essentially similar to Pytorch Tensor object.\n",
    "\n",
    "Code concept: Each function has a calculation for basic mathemathical operation and also gradient calculation called backward.\n",
    "\n",
    "Each class property and function is commented for easier undrestanding."
   ]
  },
  {
   "cell_type": "code",
   "execution_count": null,
   "metadata": {
    "id": "up8XbcBzIRvL"
   },
   "outputs": [],
   "source": [
    "class Value:\n",
    "  #The constructor of the class that initializes inital values for our value class.\n",
    "  #data is the actual value.\n",
    "  #_children is the set of other values that are connected to this value object.\n",
    "  #_op is the operation\n",
    "  def __init__(self, data, _children=(), _op=''):\n",
    "    self.data = data\n",
    "    self.gradient = 0.0\n",
    "    self._backward = lambda: None\n",
    "    self._prev = set(_children)\n",
    "    self._op = _op\n",
    "  #Special function returns the data value of the value class.\n",
    "  def __repr__(self):\n",
    "    return f\"Value(data={self.data})\"\n",
    "  #Operator overloading for + fucntion.  We also store the previouse data and operation type.\n",
    "  def __add__(self, other):\n",
    "    other = other if isinstance(other, Value) else Value(other) #if other is is not a value object, we wrap it by value.\n",
    "    out = Value(self.data + other.data, (self, other), '+')\n",
    "    #Gradient function stored for back prop call.We also accumulate local gradients.\n",
    "    def _backward():\n",
    "      self.gradient += 1.0 * out.gradient\n",
    "      other.gradient += 1.0 * out.gradient\n",
    "    out._backward = _backward\n",
    "\n",
    "    return out\n",
    "\n",
    "  #Operator overloading for * fucntion. We also store the previouse data and operation type.\n",
    "  def __mul__(self, other):\n",
    "    other = other if isinstance(other, Value) else Value(other) #if other is is not a value object, we wrap it by value.\n",
    "    out = Value(self.data * other.data, (self, other), '*')\n",
    "    #Gradient function stored for back prop call. We also accumulate local gradients.\n",
    "    def _backward():\n",
    "      self.gradient += other.data * out.gradient\n",
    "      other.gradient += self.data * out.gradient\n",
    "    out._backward = _backward\n",
    "\n",
    "    return out\n",
    "\n",
    "  #Operator overloading for ** fucntion.  We also store the previouse data and operation type.\n",
    "  def __pow__(self, other):\n",
    "    assert isinstance(other, (int, float)) #if other is is not a value object, we wrap it by value.\n",
    "    out = Value(self.data**other, (self,), f'**{other}')\n",
    "    #Gradient function stored for back prop call. We also accumulate local gradients.\n",
    "    def _backward():\n",
    "        self.gradient += other * (self.data ** (other - 1)) * out.gradient\n",
    "    out._backward = _backward\n",
    "\n",
    "    return out\n",
    "  #Exponent operation for value object.\n",
    "  def exp(self):\n",
    "    x = self.data\n",
    "    out = Value(math.exp(x), (self, ), 'exp')\n",
    "    #Gradient function stored for back prop call. We also accumulate local gradients.\n",
    "    def _backward():\n",
    "      self.gradient += out.data * out.gradient\n",
    "    out._backward = _backward\n",
    "\n",
    "    return out\n",
    "\n",
    "  #Special function changes order of operation to other * self if self * other doesnt work\n",
    "  def __rmul__(self, other):\n",
    "    return self * other\n",
    "  #Special function changes order of operation to self / other if self / other doesnt work. Note that devision is in form of x * y^-1 for more generalized form.\n",
    "  def __truediv__(self, other): # self / other\n",
    "    return self * other**-1\n",
    "  #Special function implementing negation for cases such as -value(2).\n",
    "  def __neg__(self): # -self\n",
    "    return self * -1\n",
    "  #Special function changes order of operation to self + (-other) if other - self doesnt work.\n",
    "  def __sub__(self, other): # self - other\n",
    "    return self + (-other)\n",
    "  #Special function changes order of operation to other + self if self + other doesnt work.\n",
    "  def __radd__(self, other): # other + self\n",
    "    return self + other\n",
    "\n",
    "  #tanh function for value object.\n",
    "  def tanh(self):\n",
    "    x = self.data\n",
    "    t = (math.exp(2*x) - 1)/(math.exp(2*x) + 1)\n",
    "    out = Value(t, (self, ), 'tanh')\n",
    "    #Gradient function stored for back prop call.\n",
    "    def _backward():\n",
    "      self.gradient += (1 - t**2) * out.gradient\n",
    "    out._backward = _backward\n",
    "\n",
    "    return out\n",
    "\n",
    "  #sigmoid function for value object.\n",
    "  def sigmoid(self):\n",
    "    x = self.data\n",
    "    if x >= 0:\n",
    "      t = 1/(1 + math.exp(-x))\n",
    "    else:\n",
    "      t = math.exp(x) /(1 + math.exp(x))\n",
    "    out = Value(t, (self, ), 'sigmoid')\n",
    "    #Gradient function stored for back prop call.We also accumulate local gradients.\n",
    "    def _backward():\n",
    "      # if x > 0:\n",
    "      #   self.gradient += ((1 / (1 + math.exp(-x))) * (1-x)) * out.gradient\n",
    "      # else:\n",
    "      #   self.gradient += (math.exp(x) / (1 + math.exp(x))) * (1-x) * out.gradient\n",
    "      self.gradient += ((1/(1 + math.exp(-x)))*(1-x)) * out.gradient\n",
    "    out._backward = _backward\n",
    "\n",
    "    return out\n",
    "\n",
    "  #relu function for value object.\n",
    "  def relu(self):\n",
    "    x = self.data\n",
    "    if x >= 0:\n",
    "      t = x\n",
    "    else:\n",
    "      t = 0\n",
    "    out = Value(t, (self, ), 'relu')\n",
    "    #Gradient function stored for back prop call.We also accumulate local gradients.\n",
    "    def _backward():\n",
    "      if x > 0:\n",
    "        self.gradient += 1\n",
    "      else:\n",
    "        self.gradient += 0\n",
    "    out._backward = _backward\n",
    "\n",
    "    return out\n",
    "\n",
    "  #Topological sort to make the graph in the backward order for backprop.\n",
    "  def backward(self):\n",
    "    topo = []\n",
    "    visited = set()\n",
    "    def build_topo(v):\n",
    "      if v not in visited:\n",
    "        visited.add(v)\n",
    "        for child in v._prev:\n",
    "          build_topo(child)\n",
    "        topo.append(v)\n",
    "    build_topo(self)\n",
    "\n",
    "    self.gradient = 1\n",
    "    for node in reversed(topo):\n",
    "      node._backward()"
   ]
  },
  {
   "cell_type": "code",
   "execution_count": null,
   "metadata": {
    "id": "JMuRpaFMWwSf"
   },
   "outputs": [],
   "source": [
    "import random\n",
    "import math\n",
    "class Neuron:\n",
    "  #The constructor of the class that initializes inital values for our Neuron class.\n",
    "  #numberOfInputs: Number of inputs to this perticular neuron.\n",
    "  def __init__(self, numberOfInputs):\n",
    "    self.w = [Value(random.uniform(-1,1)) for _ in range(numberOfInputs)]\n",
    "    self.b = Value(random.uniform(-1,1))\n",
    "\n",
    "  #Special function when the object is called with a parameter x\n",
    "  #It multiplies the weights and x's and adds them up. Then it applies the chosen actiavtion function and return the result.\n",
    "  def __call__(self, x):\n",
    "    # w * x + b\n",
    "    act = sum((wi*xi for wi, xi in zip(self.w, x)), self.b)\n",
    "    out = act.sigmoid()\n",
    "    return out\n",
    "\n",
    "  def parameters(self):\n",
    "    return self.w + [self.b]\n",
    "\n",
    "class Layer:\n",
    "  #The constructor of the class that initializes inital values for our Layer class.\n",
    "  #numberOfInputs: Number of inputs to each layer and essentially to each (neuron). (this is basically the shape of our inpout data)\n",
    "  #numberOfOutputs: How many neurons we want in our layer.\n",
    "  def __init__(self, numberOfInputs, numberOfOutputs):\n",
    "    self.neurons = [Neuron(numberOfInputs) for _ in range(numberOfOutputs)]\n",
    "\n",
    "  #Special function when the object is called with a parameter x\n",
    "  #It utilizes the neuron class. it outputs the neuron's result for each neuron in the layer.\n",
    "  def __call__(self, x):\n",
    "    outs = [n(x) for n in self.neurons]\n",
    "    return outs[0] if len(outs) == 1 else outs #last layer will return single value instead of an list of single element.\n",
    "\n",
    "  def parameters(self):\n",
    "    return [p for neuron in self.neurons for p in neuron.parameters()]\n",
    "\n",
    "class MLP:\n",
    "\n",
    "  #The constructor of the class that initializes inital values for our Layer class.\n",
    "  #numberOfInputs: Number of inputs to each layer and essentially to each (neuron). (this is basically the shape of our inpout data)\n",
    "  #numberOfOutputs: list of layers desciribing how many neurons are in each layer.\n",
    "  def __init__(self, numberOfInputs, numberOfOutputs):\n",
    "    sz = [numberOfInputs] + numberOfOutputs\n",
    "    self.layers = [Layer(sz[i], sz[i+1]) for i in range(len(numberOfOutputs))]\n",
    "\n",
    "  def __call__(self, x):\n",
    "    for layer in self.layers:\n",
    "      x = layer(x)\n",
    "    return x\n",
    "\n",
    "  def parameters(self):\n",
    "    return [p for layer in self.layers for p in layer.parameters()]"
   ]
  },
  {
   "cell_type": "markdown",
   "metadata": {
    "id": "kBkYNqI_Sxsf"
   },
   "source": [
    "We will train the network using multiple different Learning rates to see which rate results the best resault for us."
   ]
  },
  {
   "cell_type": "code",
   "execution_count": null,
   "metadata": {
    "id": "PrawuVz_T5J0"
   },
   "outputs": [],
   "source": [
    "learningRates = [0.0000001, 0.000001 ,0.00001]                # Learning rate\n",
    "max_epochs = 10                       # Number of Iterations\n",
    "nn = MLP(2, [2, 2, 1])\n",
    "mse = 0\n",
    "TrainingLosses = []\n",
    "trainX = X_train\n",
    "trainY = y_train\n",
    "testX = X_test\n",
    "testY = y_test\n",
    "loss = Value(0)\n",
    "trainingLossLearningRate = []\n",
    "\n",
    "for l in learningRates:\n",
    "  for k in range(max_epochs):\n",
    "\n",
    "    # forward pass\n",
    "    ypred = [nn(x) for x in trainX]\n",
    "    loss = sum((yhat - ytruth)**2 for ytruth, yhat in zip(trainY, ypred))\n",
    "    mse = loss/len(trainY)\n",
    "    TrainingLosses.append([k, loss.data])\n",
    "\n",
    "    # backward pass\n",
    "    for p in nn.parameters():\n",
    "      p.gradient = 0.0\n",
    "    loss.backward()\n",
    "\n",
    "    # update\n",
    "    for p in nn.parameters():\n",
    "      p.data += -(l) * p.gradient\n",
    "\n",
    "  trainingLossLearningRate.append([l, TrainingLosses])\n",
    "  TrainingLosses = []"
   ]
  },
  {
   "cell_type": "markdown",
   "metadata": {
    "id": "N5ywflu4qKRH"
   },
   "source": [
    "We will graph the Loss against EPOCHs for all the learning rates."
   ]
  },
  {
   "cell_type": "code",
   "execution_count": null,
   "metadata": {
    "colab": {
     "base_uri": "https://localhost:8080/",
     "height": 465
    },
    "id": "2-D5IoiRqOQV",
    "outputId": "35380cbb-6b53-428e-eac9-2ef6bfd6f514"
   },
   "outputs": [
    {
     "data": {
      "image/png": "[encoded data removed]",
      "text/plain": [
       "<Figure size 640x480 with 1 Axes>"
      ]
     },
     "metadata": {},
     "output_type": "display_data"
    }
   ],
   "source": [
    "import matplotlib.pyplot as plt\n",
    "# Plot outputs\n",
    "  # plt.scatter([row[0] for row in l] , [row[1] for row in l], color=\"black\")\n",
    "for i in [(idx , row) for idx, row in trainingLossLearningRate]:\n",
    "  plt.scatter([row[0] for row in i[1]] , [row[1] for row in i[1]], color=\"black\")\n",
    "  plt.plot([row[0] for row in i[1]] , [row[1] for row in i[1]], label=i[0])\n",
    "\n",
    "\n",
    "plt.ylabel(\"LOSS\")\n",
    "plt.xlabel(\"EPOCHs\")\n",
    "\n",
    "plt.legend()\n",
    "plt.show()"
   ]
  },
  {
   "cell_type": "markdown",
   "metadata": {
    "id": "sQvgrn3BqSsz"
   },
   "source": [
    "Looks like -0.000001 learning rate gives us the best result. we will train the model with more EPOCHs using the picked learning rate."
   ]
  },
  {
   "cell_type": "code",
   "execution_count": null,
   "metadata": {
    "colab": {
     "base_uri": "https://localhost:8080/"
    },
    "id": "OdtRJ5M6qTQA",
    "outputId": "eca0e89a-c1f5-4561-c49f-dadad2e34c02"
   },
   "outputs": [
    {
     "name": "stdout",
     "output_type": "stream",
     "text": [
      "Test Loss: 478913.1874817961\n",
      "Test MSE: 20822.312499208525\n"
     ]
    }
   ],
   "source": [
    "learningRate = 0.0000001   # Learning rate\n",
    "max_epochs = 1000             # Number of Iterations\n",
    "nn = MLP(2, [2, 2, 1])\n",
    "mse = 0\n",
    "TrainingLosses = []\n",
    "trainX = X_train\n",
    "trainY = y_train\n",
    "testX = X_test\n",
    "testY = y_test\n",
    "loss = Value(0)\n",
    "\n",
    "\n",
    "for k in range(max_epochs):\n",
    "\n",
    "  # forward pass\n",
    "  ypred = [nn(x) for x in trainX]\n",
    "  loss = sum((yhat - ytruth)**2 for ytruth, yhat in zip(trainY, ypred))\n",
    "  mse = loss/len(trainY)\n",
    "  TrainingLosses.append([k, loss.data])\n",
    "\n",
    "  # backward pass\n",
    "  for p in nn.parameters():\n",
    "    p.gradient = 0.0\n",
    "  loss.backward()\n",
    "\n",
    "  # update\n",
    "  for p in nn.parameters():\n",
    "    p.data += -(learningRate) * p.gradient\n",
    "\n",
    "\n",
    "ypred = [nn(x) for x in testX]\n",
    "testLoss = sum((yhat - ytruth)**2 for ytruth, yhat in zip(testY, ypred))\n",
    "testMSE = testLoss/len(testY)\n",
    "print(\"Test Loss:\", testLoss.data)\n",
    "print(\"Test MSE:\", testMSE.data)"
   ]
  },
  {
   "cell_type": "markdown",
   "metadata": {
    "id": "ZotANyTTqWhv"
   },
   "source": [
    "We will graph the model Loss against EPOCH one more time with the new learning rate."
   ]
  },
  {
   "cell_type": "code",
   "execution_count": null,
   "metadata": {
    "colab": {
     "base_uri": "https://localhost:8080/",
     "height": 465
    },
    "id": "oXKSjAk7qaZ3",
    "outputId": "91e8ef48-36cb-4f1a-f60d-7f21c52c05f2"
   },
   "outputs": [
    {
     "data": {
      "image/png": "[encoded data removed]",
      "text/plain": [
       "<Figure size 640x480 with 1 Axes>"
      ]
     },
     "metadata": {},
     "output_type": "display_data"
    }
   ],
   "source": [
    "import matplotlib.pyplot as plt\n",
    "# Plot outputs\n",
    "  # plt.scatter([row[0] for row in l] , [row[1] for row in l], color=\"black\")\n",
    "\n",
    "# plt.scatter([row[0] for row in TrainingLosses] , [row[1] for row in TrainingLosses], color=\"black\")\n",
    "plt.plot([row[0] for row in TrainingLosses] , [row[1] for row in TrainingLosses])\n",
    "\n",
    "\n",
    "plt.ylabel(\"LOSS\")\n",
    "plt.xlabel(\"EPOCHs\")\n",
    "\n",
    "plt.show()"
   ]
  },
  {
   "cell_type": "markdown",
   "metadata": {
    "id": "sSYYBkL0kNDU"
   },
   "source": [
    "\n",
    "**Classification**\n",
    "Construct a dense feed-forward neural network model for the Ionosphere dataset classifying radar returns as“Good” or “Bad” based on the measured attributes.\n",
    "For this task, you should use either the Keras or PyTorch neural network frameworks. If you are new to machine learning, you may find Keras to be more approachable. If you have experience with machine learning, or if you plan to do a project or thesis involving neural networks, consider using PyTorch instead. You may also use scikit-learn and Matplotlib as described above.\n",
    "\n",
    "\n",
    "**Constructing a model**\n",
    "Split the dataset into training and test sets, then train a fully-connected neural network to classify the returns. You will need to determine the size and number of layers, activation functions, optimizer, and other hyperparameters.\n",
    "Plot learning curves for the training and test sets, and evaluate the performance of the model.\n",
    "\n",
    "Tuning the model Apply a variety of regularization techniques to improve the performance of your model on the test set. How does the precision and accuracy of the model compare with the Baseline Model Performance for Neural Network Classification shown on the UCI Machine Learning Repository page?"
   ]
  },
  {
   "cell_type": "code",
   "execution_count": null,
   "metadata": {
    "colab": {
     "base_uri": "https://localhost:8080/"
    },
    "id": "4FEVaqa1q9B3",
    "outputId": "99facbfd-8db9-4085-cb78-0658dbac464a"
   },
   "outputs": [
    {
     "name": "stdout",
     "output_type": "stream",
     "text": [
      "Requirement already satisfied: ucimlrepo in /usr/local/lib/python3.10/dist-packages (0.0.6)\n"
     ]
    }
   ],
   "source": [
    "!pip install ucimlrepo"
   ]
  },
  {
   "cell_type": "markdown",
   "metadata": {
    "id": "Zb3BKGhPrGKl"
   },
   "source": [
    "#Import the dataset\n",
    "Showing the metadata and variable information for the ionosphere dataset."
   ]
  },
  {
   "cell_type": "code",
   "execution_count": null,
   "metadata": {
    "colab": {
     "base_uri": "https://localhost:8080/"
    },
    "id": "6RDUVdAXrDcZ",
    "outputId": "87880ead-cb54-4ba3-e0b9-4837a1187763"
   },
   "outputs": [
    {
     "name": "stdout",
     "output_type": "stream",
     "text": [
      "{'uci_id': 52, 'name': 'Ionosphere', 'repository_url': 'https://archive.ics.uci.edu/dataset/52/ionosphere', 'data_url': 'https://archive.ics.uci.edu/static/public/52/data.csv', 'abstract': 'Classification of radar returns from the ionosphere', 'area': 'Physics and Chemistry', 'tasks': ['Classification'], 'characteristics': ['Multivariate'], 'num_instances': 351, 'num_features': 34, 'feature_types': ['Integer', 'Real'], 'demographics': [], 'target_col': ['Class'], 'index_col': None, 'has_missing_values': 'no', 'missing_values_symbol': None, 'year_of_dataset_creation': 1989, 'last_updated': 'Sun Jan 01 1989', 'dataset_doi': '10.24432/C5W01B', 'creators': ['V. Sigillito', 'S. Wing', 'L. Hutton', 'K. Baker'], 'intro_paper': None, 'additional_info': {'summary': 'This radar data was collected by a system in Goose Bay, Labrador.  This system consists of a phased array of 16 high-frequency antennas with a total transmitted power on the order of 6.4 kilowatts.  See the paper for more details.  The targets were free electrons in the ionosphere. \"Good\" radar returns are those showing evidence of some type of structure in the ionosphere.  \"Bad\" returns are those that do not; their signals pass through the ionosphere.  \\r\\n\\r\\nReceived signals were processed using an autocorrelation function whose arguments are the time of a pulse and the pulse number.  There were 17 pulse numbers for the Goose Bay system.  Instances in this databse are described by 2 attributes per pulse number, corresponding to the complex values returned by the function resulting from the complex electromagnetic signal.', 'purpose': None, 'funded_by': None, 'instances_represent': None, 'recommended_data_splits': None, 'sensitive_data': None, 'preprocessing_description': None, 'variable_info': '-- All 34 are continuous\\r\\n-- The 35th attribute is either \"good\" or \"bad\" according to the definition summarized above.  This is a binary classification task.\\r\\n', 'citation': None}}\n",
      "           name     role         type demographic description units  \\\n",
      "0    Attribute1  Feature   Continuous        None        None  None   \n",
      "1    Attribute2  Feature   Continuous        None        None  None   \n",
      "2    Attribute3  Feature   Continuous        None        None  None   \n",
      "3    Attribute4  Feature   Continuous        None        None  None   \n",
      "4    Attribute5  Feature   Continuous        None        None  None   \n",
      "5    Attribute6  Feature   Continuous        None        None  None   \n",
      "6    Attribute7  Feature   Continuous        None        None  None   \n",
      "7    Attribute8  Feature   Continuous        None        None  None   \n",
      "8    Attribute9  Feature   Continuous        None        None  None   \n",
      "9   Attribute10  Feature   Continuous        None        None  None   \n",
      "10  Attribute11  Feature   Continuous        None        None  None   \n",
      "11  Attribute12  Feature   Continuous        None        None  None   \n",
      "12  Attribute13  Feature   Continuous        None        None  None   \n",
      "13  Attribute14  Feature   Continuous        None        None  None   \n",
      "14  Attribute15  Feature   Continuous        None        None  None   \n",
      "15  Attribute16  Feature   Continuous        None        None  None   \n",
      "16  Attribute17  Feature   Continuous        None        None  None   \n",
      "17  Attribute18  Feature   Continuous        None        None  None   \n",
      "18  Attribute19  Feature   Continuous        None        None  None   \n",
      "19  Attribute20  Feature   Continuous        None        None  None   \n",
      "20  Attribute21  Feature   Continuous        None        None  None   \n",
      "21  Attribute22  Feature   Continuous        None        None  None   \n",
      "22  Attribute23  Feature   Continuous        None        None  None   \n",
      "23  Attribute24  Feature   Continuous        None        None  None   \n",
      "24  Attribute25  Feature   Continuous        None        None  None   \n",
      "25  Attribute26  Feature   Continuous        None        None  None   \n",
      "26  Attribute27  Feature   Continuous        None        None  None   \n",
      "27  Attribute28  Feature   Continuous        None        None  None   \n",
      "28  Attribute29  Feature   Continuous        None        None  None   \n",
      "29  Attribute30  Feature   Continuous        None        None  None   \n",
      "30  Attribute31  Feature   Continuous        None        None  None   \n",
      "31  Attribute32  Feature   Continuous        None        None  None   \n",
      "32  Attribute33  Feature   Continuous        None        None  None   \n",
      "33  Attribute34  Feature   Continuous        None        None  None   \n",
      "34        Class   Target  Categorical        None        None  None   \n",
      "\n",
      "   missing_values  \n",
      "0              no  \n",
      "1              no  \n",
      "2              no  \n",
      "3              no  \n",
      "4              no  \n",
      "5              no  \n",
      "6              no  \n",
      "7              no  \n",
      "8              no  \n",
      "9              no  \n",
      "10             no  \n",
      "11             no  \n",
      "12             no  \n",
      "13             no  \n",
      "14             no  \n",
      "15             no  \n",
      "16             no  \n",
      "17             no  \n",
      "18             no  \n",
      "19             no  \n",
      "20             no  \n",
      "21             no  \n",
      "22             no  \n",
      "23             no  \n",
      "24             no  \n",
      "25             no  \n",
      "26             no  \n",
      "27             no  \n",
      "28             no  \n",
      "29             no  \n",
      "30             no  \n",
      "31             no  \n",
      "32             no  \n",
      "33             no  \n",
      "34             no  \n"
     ]
    }
   ],
   "source": [
    "from ucimlrepo import fetch_ucirepo\n",
    "\n",
    "# fetch dataset\n",
    "ionosphere = fetch_ucirepo(id=52)\n",
    "\n",
    "# data (as pandas dataframes)\n",
    "X = ionosphere.data.features\n",
    "y = ionosphere.data.targets\n",
    "\n",
    "# metadata\n",
    "print(ionosphere.metadata)\n",
    "\n",
    "# variable information\n",
    "print(ionosphere.variables)"
   ]
  },
  {
   "cell_type": "markdown",
   "metadata": {
    "id": "4ERBYfOlrLEA"
   },
   "source": [
    "Splitting the dataset into training data and testing data.\n"
   ]
  },
  {
   "cell_type": "code",
   "execution_count": null,
   "metadata": {
    "colab": {
     "base_uri": "https://localhost:8080/"
    },
    "id": "Nc2JakK6rLtM",
    "outputId": "080a190f-39d2-4f72-f278-8005a04a567b"
   },
   "outputs": [
    {
     "name": "stdout",
     "output_type": "stream",
     "text": [
      "X_train:\n",
      "      Attribute1  Attribute2  Attribute3  Attribute4  Attribute5  Attribute6  \\\n",
      "202           1           0     0.00000     0.00000     0.00000     0.00000   \n",
      "177           1           0     0.91667     0.29167     0.83333    -0.16667   \n",
      "249           1           0     1.00000     0.50000     1.00000     0.25000   \n",
      "63            1           0     0.63816     1.00000     0.20833    -1.00000   \n",
      "97            1           0     0.97714     0.19049     0.82683     0.46259   \n",
      "..          ...         ...         ...         ...         ...         ...   \n",
      "142           1           0     1.00000    -0.05529     1.00000    -1.00000   \n",
      "251           1           0     0.87048     0.38027     0.64099     0.69212   \n",
      "217           1           0     0.92657     0.04174     0.89266     0.15766   \n",
      "193           1           0     1.00000     0.05149     0.99363     0.10123   \n",
      "69            1           0     1.00000     1.00000     1.00000    -1.00000   \n",
      "\n",
      "     Attribute7  Attribute8  Attribute9  Attribute10  ...  Attribute25  \\\n",
      "202     0.00000     0.00000    -0.85000     -1.00000  ...      1.00000   \n",
      "177     0.70833     0.25000     0.87500     -0.08333  ...      0.83333   \n",
      "249     0.25000     1.00000     0.16851      0.91180  ...     -0.07782   \n",
      "63      1.00000     1.00000     0.87719      0.30921  ...      0.80921   \n",
      "97      0.71771     0.58732     0.47968      0.84278  ...     -0.85376   \n",
      "..          ...         ...         ...          ...  ...          ...   \n",
      "142     0.50000    -0.11111     0.36111     -0.22222  ...      1.00000   \n",
      "251     0.31347     0.86625    -0.03933      0.90740  ...      0.15552   \n",
      "217     0.86098     0.19791     0.83675      0.36526  ...      0.33340   \n",
      "193     0.96142     0.14756     0.95513     -0.26496  ...      0.39023   \n",
      "69      1.00000    -1.00000     1.00000      1.00000  ...      1.00000   \n",
      "\n",
      "     Attribute26  Attribute27  Attribute28  Attribute29  Attribute30  \\\n",
      "202      1.00000     -1.00000     -0.20000      1.00000     -1.00000   \n",
      "177     -0.12500      0.83796      0.05503      1.00000      0.20833   \n",
      "249     -0.12744     -0.02089     -0.10242      0.01033     -0.07036   \n",
      "63      -1.00000      1.00000     -0.06140      1.00000      1.00000   \n",
      "97       0.17849     -0.83314     -0.01358     -0.82366     -0.19321   \n",
      "..           ...          ...          ...          ...          ...   \n",
      "142     -0.27778      1.00000     -0.57092      1.00000     -0.27778   \n",
      "251     -0.66421      0.38544     -0.51568      0.52573     -0.29897   \n",
      "217      0.55274      0.26978      0.54214      0.22307      0.53448   \n",
      "193      0.27226      0.32930      0.25553      0.27381      0.23568   \n",
      "69       1.00000      1.00000      0.50000      0.00000      0.00000   \n",
      "\n",
      "     Attribute31  Attribute32  Attribute33  Attribute34  \n",
      "202      0.00000      1.00000      0.00000      0.00000  \n",
      "177      0.70833      0.00000      0.70833      0.04167  \n",
      "249      0.02224     -0.04142      0.02249     -0.02017  \n",
      "63       0.20614     -1.00000      1.00000      1.00000  \n",
      "97      -0.67289     -0.33662     -0.59943     -0.49700  \n",
      "..           ...          ...          ...          ...  \n",
      "142      1.00000     -0.63156      1.00000     -0.65935  \n",
      "251      0.56239     -0.05938      0.51460      0.16645  \n",
      "217      0.14312      0.49124      0.11573      0.46571  \n",
      "193      0.22427      0.21378      0.18086      0.19083  \n",
      "69       1.00000     -1.00000      1.00000     -1.00000  \n",
      "\n",
      "[263 rows x 34 columns]\n",
      "y_train:\n",
      "     Class\n",
      "202     b\n",
      "177     g\n",
      "249     g\n",
      "63      b\n",
      "97      g\n",
      "..    ...\n",
      "142     b\n",
      "251     g\n",
      "217     g\n",
      "193     g\n",
      "69      b\n",
      "\n",
      "[263 rows x 1 columns]\n",
      "X_test:\n",
      "      Attribute1  Attribute2  Attribute3  Attribute4  Attribute5  Attribute6  \\\n",
      "138           1           0    -0.26667     0.40000    -0.27303     0.12159   \n",
      "278           1           0     0.98822     0.02187     0.93102     0.34100   \n",
      "9             1           0    -0.01864    -0.08459     0.00000     0.00000   \n",
      "44            1           0     0.99025    -0.05785     0.99793    -0.13009   \n",
      "331           1           0     0.74468     0.10638     0.88706     0.00982   \n",
      "..          ...         ...         ...         ...         ...         ...   \n",
      "218           0           0     1.00000     1.00000     1.00000    -1.00000   \n",
      "154           1           0     0.05460     0.01437    -0.02586     0.04598   \n",
      "260           1           0     0.50000     0.00000     0.38696     0.10435   \n",
      "123           1           0     0.43750     0.04167     0.58333    -0.10417   \n",
      "1             1           0     1.00000    -0.18829     0.93035    -0.36156   \n",
      "\n",
      "     Attribute7  Attribute8  Attribute9  Attribute10  ...  Attribute25  \\\n",
      "138    -0.17778    -0.04444     0.06192     -0.06879  ...     -0.00069   \n",
      "278     0.83904     0.35222     0.74706      0.48906  ...     -0.16489   \n",
      "9       0.00000     0.00000     0.11470     -0.26810  ...     -0.14803   \n",
      "44      0.98663    -0.19430     0.99374     -0.25843  ...      0.68282   \n",
      "331     0.88542     0.01471     0.87234     -0.01418  ...      0.87234   \n",
      "..          ...         ...         ...          ...  ...          ...   \n",
      "218     1.00000    -1.00000     1.00000      1.00000  ...      0.00000   \n",
      "154     0.01437     0.04598    -0.07759      0.00862  ...      0.03161   \n",
      "260     0.49130     0.06522     0.46957     -0.03913  ...      0.47391   \n",
      "123     0.39583     0.00000     0.33333     -0.06250  ...      0.39583   \n",
      "1      -0.10868    -0.93597     1.00000     -0.04549  ...     -0.20332   \n",
      "\n",
      "     Attribute26  Attribute27  Attribute28  Attribute29  Attribute30  \\\n",
      "138     -0.00050      0.00019     -0.00043      0.00026      0.00005   \n",
      "278      0.69714     -0.16556      0.60510     -0.16209      0.55805   \n",
      "9       -0.01326      0.20645     -0.02294      0.00000      0.00000   \n",
      "44      -0.68479      0.65247     -0.73174      0.61010     -0.75353   \n",
      "331      0.11348      0.83429      0.06014      0.74468     -0.03546   \n",
      "..           ...          ...          ...          ...          ...   \n",
      "218      0.00000      1.00000      1.00000      0.00000      0.00000   \n",
      "154     -0.00862      0.00862      0.01724      0.02586      0.01149   \n",
      "260     -0.00870      0.41789      0.06908      0.38696      0.03913   \n",
      "123     -0.18750      0.44012     -0.10064      0.41667     -0.08333   \n",
      "1       -0.26569     -0.20468     -0.18401     -0.19040     -0.11593   \n",
      "\n",
      "     Attribute31  Attribute32  Attribute33  Attribute34  \n",
      "138      0.00000      0.00015     -0.00008      0.00002  \n",
      "278     -0.34717      0.44195     -0.33483      0.37465  \n",
      "9        0.16595      0.24086     -0.08208      0.38065  \n",
      "44       0.54752     -0.80278      0.49195     -0.83245  \n",
      "331      0.81710      0.06800      0.80774      0.07173  \n",
      "..           ...          ...          ...          ...  \n",
      "218     -1.00000     -1.00000      0.00000      0.00000  \n",
      "154      0.02586      0.01149     -0.04598     -0.00575  \n",
      "260      0.35217      0.14783      0.44783      0.17391  \n",
      "123      0.58333     -0.31250      0.33333     -0.06250  \n",
      "1       -0.16626     -0.06288     -0.13738     -0.02447  \n",
      "\n",
      "[88 rows x 34 columns]\n",
      "y_test:\n",
      "     Class\n",
      "138     b\n",
      "278     g\n",
      "9       b\n",
      "44      g\n",
      "331     g\n",
      "..    ...\n",
      "218     b\n",
      "154     b\n",
      "260     g\n",
      "123     g\n",
      "1       b\n",
      "\n",
      "[88 rows x 1 columns]\n"
     ]
    }
   ],
   "source": [
    "from sklearn.model_selection import train_test_split\n",
    "import numpy as np\n",
    "\n",
    "X_train, X_test, y_train, y_test = train_test_split(X,y,\n",
    "                                   random_state=104,\n",
    "                                   test_size=0.25,\n",
    "                                   shuffle=True)\n",
    "\n",
    "print(\"X_train:\\n\", X_train)\n",
    "print(\"y_train:\\n\", y_train)\n",
    "print(\"X_test:\\n\", X_test)\n",
    "print(\"y_test:\\n\", y_test)"
   ]
  },
  {
   "cell_type": "code",
   "execution_count": null,
   "metadata": {
    "id": "71Bq0ZtKrTFD"
   },
   "outputs": [],
   "source": [
    "# Convert 'b' to 0 and 'g' to 1 in y_train and y_test\n",
    "y_train = y_train.squeeze().map({'b': 0, 'g': 1})\n",
    "y_test = y_test.squeeze().map({'b': 0, 'g': 1})"
   ]
  },
  {
   "cell_type": "markdown",
   "metadata": {
    "id": "D9m4fA1IrZ1t"
   },
   "source": [
    "#Training a neural network using pytorch\n",
    "\n",
    "To build a neural network I referred Jeril Kuriakose approach to A Simple Neural Network Classifier using PyTorch: https://medium.com/analytics-vidhya/a-simple-neural-network-classifier-using-pytorch-from-scratch-7ebb477422d2"
   ]
  },
  {
   "cell_type": "code",
   "execution_count": null,
   "metadata": {
    "colab": {
     "base_uri": "https://localhost:8080/"
    },
    "id": "zPcLJAULrfQy",
    "outputId": "c1ca5282-911c-49db-ace7-3150f28f2471"
   },
   "outputs": [
    {
     "name": "stdout",
     "output_type": "stream",
     "text": [
      "Requirement already satisfied: torch in /usr/local/lib/python3.10/dist-packages (2.2.1+cu121)\n",
      "Requirement already satisfied: filelock in /usr/local/lib/python3.10/dist-packages (from torch) (3.13.1)\n",
      "Requirement already satisfied: typing-extensions>=4.8.0 in /usr/local/lib/python3.10/dist-packages (from torch) (4.10.0)\n",
      "Requirement already satisfied: sympy in /usr/local/lib/python3.10/dist-packages (from torch) (1.12)\n",
      "Requirement already satisfied: networkx in /usr/local/lib/python3.10/dist-packages (from torch) (3.2.1)\n",
      "Requirement already satisfied: jinja2 in /usr/local/lib/python3.10/dist-packages (from torch) (3.1.3)\n",
      "Requirement already satisfied: fsspec in /usr/local/lib/python3.10/dist-packages (from torch) (2023.6.0)\n",
      "Requirement already satisfied: nvidia-cuda-nvrtc-cu12==12.1.105 in /usr/local/lib/python3.10/dist-packages (from torch) (12.1.105)\n",
      "Requirement already satisfied: nvidia-cuda-runtime-cu12==12.1.105 in /usr/local/lib/python3.10/dist-packages (from torch) (12.1.105)\n",
      "Requirement already satisfied: nvidia-cuda-cupti-cu12==12.1.105 in /usr/local/lib/python3.10/dist-packages (from torch) (12.1.105)\n",
      "Requirement already satisfied: nvidia-cudnn-cu12==8.9.2.26 in /usr/local/lib/python3.10/dist-packages (from torch) (8.9.2.26)\n",
      "Requirement already satisfied: nvidia-cublas-cu12==12.1.3.1 in /usr/local/lib/python3.10/dist-packages (from torch) (12.1.3.1)\n",
      "Requirement already satisfied: nvidia-cufft-cu12==11.0.2.54 in /usr/local/lib/python3.10/dist-packages (from torch) (11.0.2.54)\n",
      "Requirement already satisfied: nvidia-curand-cu12==10.3.2.106 in /usr/local/lib/python3.10/dist-packages (from torch) (10.3.2.106)\n",
      "Requirement already satisfied: nvidia-cusolver-cu12==11.4.5.107 in /usr/local/lib/python3.10/dist-packages (from torch) (11.4.5.107)\n",
      "Requirement already satisfied: nvidia-cusparse-cu12==12.1.0.106 in /usr/local/lib/python3.10/dist-packages (from torch) (12.1.0.106)\n",
      "Requirement already satisfied: nvidia-nccl-cu12==2.19.3 in /usr/local/lib/python3.10/dist-packages (from torch) (2.19.3)\n",
      "Requirement already satisfied: nvidia-nvtx-cu12==12.1.105 in /usr/local/lib/python3.10/dist-packages (from torch) (12.1.105)\n",
      "Requirement already satisfied: triton==2.2.0 in /usr/local/lib/python3.10/dist-packages (from torch) (2.2.0)\n",
      "Requirement already satisfied: nvidia-nvjitlink-cu12 in /usr/local/lib/python3.10/dist-packages (from nvidia-cusolver-cu12==11.4.5.107->torch) (12.4.99)\n",
      "Requirement already satisfied: MarkupSafe>=2.0 in /usr/local/lib/python3.10/dist-packages (from jinja2->torch) (2.1.5)\n",
      "Requirement already satisfied: mpmath>=0.19 in /usr/local/lib/python3.10/dist-packages (from sympy->torch) (1.3.0)\n"
     ]
    }
   ],
   "source": [
    "!pip install torch"
   ]
  },
  {
   "cell_type": "markdown",
   "metadata": {
    "id": "oVZ0h7Borngo"
   },
   "source": [
    "#Processing data\n",
    "\n",
    "Preprocessing data using PyTorch Dataset and DataLoader. The Dataset stores the sample and their corresponding labels. To make the samples easily accessible, DataLoader wraps the dataset in an iterable manner."
   ]
  },
  {
   "cell_type": "code",
   "execution_count": null,
   "metadata": {
    "id": "m-NkgrP0ro3b"
   },
   "outputs": [],
   "source": [
    "import torch\n",
    "from torch.utils.data import Dataset,DataLoader\n",
    "\n",
    "class Data(Dataset):\n",
    "    def __init__(self, X_train, y_train):\n",
    "        # Convert input arrays to tensors and ensure the data types are correct\n",
    "        # Convert features to float32\n",
    "        self.X = torch.from_numpy(X_train.to_numpy().astype('float32'))\n",
    "\n",
    "        # Convert labels to long, assuming they are classification labels\n",
    "        # If y_train is not already of integer type, ensure it's converted to integers first\n",
    "        self.y = torch.from_numpy(y_train.to_numpy().astype('int')).type(torch.LongTensor)\n",
    "\n",
    "        self.len = len(self.X)\n",
    "\n",
    "    def __getitem__(self, index):\n",
    "        # Return a single observation and its corresponding label\n",
    "        return self.X[index], self.y[index]\n",
    "\n",
    "    def __len__(self):\n",
    "        # Return the total number of samples\n",
    "        return self.len"
   ]
  },
  {
   "cell_type": "code",
   "execution_count": null,
   "metadata": {
    "id": "zG_ZyEOnrrqD"
   },
   "outputs": [],
   "source": [
    "traindata = Data(X_train, y_train)\n",
    "testdata = Data(X_test, y_test)"
   ]
  },
  {
   "cell_type": "code",
   "execution_count": null,
   "metadata": {
    "colab": {
     "base_uri": "https://localhost:8080/"
    },
    "id": "ErfKEZnDrtMy",
    "outputId": "c1c49d56-ba41-4c5d-d505-a96ff8260332"
   },
   "outputs": [
    {
     "name": "stdout",
     "output_type": "stream",
     "text": [
      "(tensor([ 1.0000,  0.0000,  0.8669,  0.3595,  0.7201,  0.6667,  0.3720,  0.8305,\n",
      "         0.0865,  0.8589, -0.2412,  0.8612, -0.5176,  0.6758, -0.6871,  0.4152,\n",
      "        -0.7702,  0.0990, -0.6940, -0.1365, -0.4949, -0.4221, -0.3254, -0.5768,\n",
      "        -0.0284, -0.5995,  0.1536, -0.5313,  0.3231, -0.3709,  0.4619, -0.1968,\n",
      "         0.4096,  0.0182]), tensor(1))\n"
     ]
    }
   ],
   "source": [
    "print(traindata[25])"
   ]
  },
  {
   "cell_type": "code",
   "execution_count": null,
   "metadata": {
    "colab": {
     "base_uri": "https://localhost:8080/"
    },
    "id": "qK80k6MeruTz",
    "outputId": "a3ca02ce-a970-4271-e880-3af8c7be5efb"
   },
   "outputs": [
    {
     "name": "stdout",
     "output_type": "stream",
     "text": [
      "(tensor([[ 1.0000,  0.0000,  0.8669,  0.3595,  0.7201,  0.6667,  0.3720,  0.8305,\n",
      "          0.0865,  0.8589, -0.2412,  0.8612, -0.5176,  0.6758, -0.6871,  0.4152,\n",
      "         -0.7702,  0.0990, -0.6940, -0.1365, -0.4949, -0.4221, -0.3254, -0.5768,\n",
      "         -0.0284, -0.5995,  0.1536, -0.5313,  0.3231, -0.3709,  0.4619, -0.1968,\n",
      "          0.4096,  0.0182],\n",
      "        [ 1.0000,  0.0000,  0.8971,  0.3823,  0.9118,  0.3750,  0.7426,  0.6765,\n",
      "          0.4559,  0.7794,  0.1912,  0.8897, -0.0221,  0.8603, -0.2059,  0.8235,\n",
      "         -0.3750,  0.6765, -0.5000,  0.4779, -0.7353,  0.3823, -0.8603,  0.0882,\n",
      "         -0.7426, -0.1250, -0.6793, -0.2413, -0.5515, -0.4265, -0.4412, -0.5074,\n",
      "         -0.2868, -0.5662],\n",
      "        [ 1.0000,  0.0000,  0.0833, -0.2069, -1.0000,  1.0000, -1.0000,  1.0000,\n",
      "          0.7188,  0.4717, -0.8214, -0.6272, -1.0000, -1.0000, -1.0000,  1.0000,\n",
      "         -0.0275,  0.5915, -0.4211, -0.4211, -0.7463, -1.0000, -1.0000, -0.4680,\n",
      "         -1.0000,  0.2381,  1.0000, -1.0000, -1.0000, -0.3891, -1.0000, -1.0000,\n",
      "         -1.0000,  0.6146],\n",
      "        [ 1.0000,  0.0000,  0.0000,  0.0000,  0.0000,  0.0000,  0.0000,  0.0000,\n",
      "          0.0000,  0.0000,  0.6219,  1.0000,  0.0000,  0.0000,  0.0000,  0.0000,\n",
      "          0.3659, -0.7195,  0.5610, -1.0000,  0.0000,  0.0000,  0.0000,  0.0000,\n",
      "          0.0000,  0.0000,  1.0000,  0.1098,  0.0000,  0.0000,  0.0000,  0.0000,\n",
      "          0.0000,  0.0000],\n",
      "        [ 1.0000,  0.0000,  0.4678,  0.1131,  0.5898,  0.0066,  0.5543,  0.0687,\n",
      "          0.4789, -0.1397,  0.5299,  0.0133,  0.6386, -0.1619,  0.6785, -0.0333,\n",
      "          0.5454, -0.1353,  0.5299, -0.0466,  0.4789, -0.1951,  0.5078, -0.1353,\n",
      "          0.4146, -0.2018,  0.5393, -0.1146,  0.5987, -0.0288,  0.5366, -0.1175,\n",
      "          0.5632, -0.0443],\n",
      "        [ 0.0000,  0.0000, -1.0000,  1.0000,  1.0000,  1.0000,  0.0000,  0.0000,\n",
      "          1.0000, -1.0000,  1.0000, -1.0000,  1.0000, -1.0000, -1.0000, -1.0000,\n",
      "          0.0000,  0.0000, -1.0000, -1.0000,  0.0000,  0.0000,  0.0000,  0.0000,\n",
      "         -1.0000, -1.0000,  1.0000, -1.0000,  1.0000,  1.0000, -1.0000, -1.0000,\n",
      "          0.0000,  0.0000],\n",
      "        [ 1.0000,  0.0000,  1.0000,  1.0000,  0.3670,  0.0616,  0.1299,  0.9271,\n",
      "         -0.2759,  0.9360, -0.3153,  0.3769, -0.8719,  0.3695, -0.9286, -0.0887,\n",
      "         -0.3892, -0.3424, -0.4655, -0.8251, -0.0542, -0.9360,  0.2562, -0.2044,\n",
      "          0.7379, -0.4595,  0.8547, -0.0683,  1.0000,  1.0000,  0.3867,  0.0025,\n",
      "          0.1776,  0.7979],\n",
      "        [ 0.0000,  0.0000,  1.0000,  1.0000,  0.0000,  0.0000,  1.0000, -1.0000,\n",
      "          1.0000, -1.0000,  1.0000,  1.0000,  1.0000,  1.0000,  1.0000, -1.0000,\n",
      "          1.0000,  1.0000,  1.0000,  1.0000,  1.0000, -1.0000, -1.0000, -1.0000,\n",
      "          1.0000, -1.0000,  1.0000, -1.0000,  1.0000,  1.0000,  0.0000,  0.0000,\n",
      "          1.0000, -1.0000],\n",
      "        [ 1.0000,  0.0000,  0.9231,  0.1545,  0.8640,  0.2976,  0.7258,  0.3679,\n",
      "          0.7059,  0.5683,  0.5745,  0.6272,  0.4327,  0.7468,  0.3171,  0.6770,\n",
      "          0.1913,  0.7682,  0.0469,  0.7617, -0.1206,  0.7697, -0.1848,  0.7133,\n",
      "         -0.2929,  0.6571, -0.3880,  0.5855, -0.4680,  0.5013, -0.5315,  0.4073,\n",
      "         -0.5623,  0.3510]]), tensor([1, 1, 0, 0, 1, 0, 1, 0, 1]))\n"
     ]
    }
   ],
   "source": [
    "print(traindata[25:34])"
   ]
  },
  {
   "cell_type": "markdown",
   "metadata": {
    "id": "jx3nxk0POcn7"
   },
   "source": [
    "Load the trainingdata using the DataLoader , and set batch_size to 16."
   ]
  },
  {
   "cell_type": "code",
   "execution_count": null,
   "metadata": {
    "id": "R4ZOW84jrwXh"
   },
   "outputs": [],
   "source": [
    "batch_size = 16\n",
    "trainloader = DataLoader(traindata, batch_size=batch_size,\n",
    "                         shuffle=True, num_workers=2)\n",
    "testloader = DataLoader(testdata, batch_size=batch_size, shuffle=True, num_workers=2)"
   ]
  },
  {
   "cell_type": "markdown",
   "metadata": {
    "id": "M7NVJ6mLrzho"
   },
   "source": [
    "#Build neural network classifier"
   ]
  },
  {
   "cell_type": "code",
   "execution_count": null,
   "metadata": {
    "colab": {
     "base_uri": "https://localhost:8080/"
    },
    "id": "Mj-Qymd1r1TN",
    "outputId": "f61532ae-5df2-4365-c505-d4b8809ee678"
   },
   "outputs": [
    {
     "name": "stdout",
     "output_type": "stream",
     "text": [
      "351\n"
     ]
    }
   ],
   "source": [
    "print(X[X.columns[0]].count())"
   ]
  },
  {
   "cell_type": "code",
   "execution_count": null,
   "metadata": {
    "colab": {
     "base_uri": "https://localhost:8080/"
    },
    "id": "801x2Phur2ya",
    "outputId": "54f59063-422e-483c-c0b7-ac3fd8b1e74c"
   },
   "outputs": [
    {
     "data": {
      "text/plain": [
       "263"
      ]
     },
     "execution_count": 12,
     "metadata": {},
     "output_type": "execute_result"
    }
   ],
   "source": [
    "len(X_train)"
   ]
  },
  {
   "cell_type": "code",
   "execution_count": null,
   "metadata": {
    "colab": {
     "base_uri": "https://localhost:8080/"
    },
    "id": "Pdo2U3ger3-v",
    "outputId": "0dc49d24-8475-4a12-9264-e559758a6e40"
   },
   "outputs": [
    {
     "name": "stdout",
     "output_type": "stream",
     "text": [
      "['g' 'b']\n"
     ]
    }
   ],
   "source": [
    "unique_values = y['Class'].unique()\n",
    "print(unique_values)"
   ]
  },
  {
   "cell_type": "markdown",
   "metadata": {
    "id": "Re7ULr_2PsPc"
   },
   "source": [
    "The network consists of two linear layers separated by a sigmoid activation function and a dropout layer for regularization. The first linear layer maps the input to the hidden layer, while the second linear layer maps the hidden layer's outputs to the final output. The dropout layer is introduced after the activation function to reduce overfitting by randomly setting a fraction of the input units to 0 at each update during training.\n",
    "\n",
    "In the forward method, the data flows through the network: it's first passed through linear1, then through the sigmoid function to introduce non-linearity, followed by the dropout layer, and finally through linear2 to produce the output."
   ]
  },
  {
   "cell_type": "code",
   "execution_count": null,
   "metadata": {
    "id": "7nlaEXF-r5cF"
   },
   "outputs": [],
   "source": [
    "import torch.nn as nn\n",
    "\n",
    "# number of features (len of X cols)\n",
    "input_dim = 34\n",
    "# number of hidden layers\n",
    "hidden_layers = 25\n",
    "# number of classes (unique of y)\n",
    "output_dim = 2\n",
    "\n",
    "# Define a neural network class that inherits from nn.Module\n",
    "class Network(nn.Module):\n",
    "  def __init__(self, dropout_rate=0.5):\n",
    "    super(Network, self).__init__()\n",
    "    # Define the first linear layer taking `input_dim` inputs to `hidden_layers` outputs\n",
    "    self.linear1 = nn.Linear(input_dim, hidden_layers)\n",
    "    # Define a dropout layer to prevent overfitting, with dropout rate as `dropout_rate`\n",
    "    self.dropout = nn.Dropout(dropout_rate)\n",
    "    # Define the second linear layer that maps from the hidden layer to the output\n",
    "    self.linear2 = nn.Linear(hidden_layers, output_dim)\n",
    "  def forward(self, x):\n",
    "    # Apply a sigmoid activation function after the first linear transformation\n",
    "    x = torch.sigmoid(self.linear1(x))\n",
    "    # Apply dropout after the activation function\n",
    "    x = self.dropout(x)\n",
    "    # Apply the second linear transformation\n",
    "    x = self.linear2(x)\n",
    "    return x"
   ]
  },
  {
   "cell_type": "markdown",
   "metadata": {
    "id": "m5VDd89Er73E"
   },
   "source": [
    "Initilize the classifier"
   ]
  },
  {
   "cell_type": "code",
   "execution_count": null,
   "metadata": {
    "id": "ntJHRz-8r9H2"
   },
   "outputs": [],
   "source": [
    "clf = Network()"
   ]
  },
  {
   "cell_type": "code",
   "execution_count": null,
   "metadata": {
    "colab": {
     "base_uri": "https://localhost:8080/"
    },
    "id": "JwNfAvhnr-Is",
    "outputId": "b1e76a4c-0d5b-4ecc-a500-b8ee35283211"
   },
   "outputs": [
    {
     "name": "stdout",
     "output_type": "stream",
     "text": [
      "<bound method Module.parameters of Network(\n",
      "  (linear1): Linear(in_features=34, out_features=25, bias=True)\n",
      "  (dropout): Dropout(p=0.5, inplace=False)\n",
      "  (linear2): Linear(in_features=25, out_features=2, bias=True)\n",
      ")>\n"
     ]
    }
   ],
   "source": [
    "print(clf.parameters)"
   ]
  },
  {
   "cell_type": "markdown",
   "metadata": {
    "id": "--s4dHfkL2-k"
   },
   "source": [
    "Defining our loss function and the optimizer\n",
    "\n",
    "Here, we use CrossEntropyLoss, a commonly used loss function for classification problems, especially when the outputs are probability distributions. The optimizer used here is Stochastic Gradient Descent (SGD). The optimizer is responsible for updating the model's weights during the training process. 'clf.parameters()' passes all the trainable parameters of the model to the optimizer, and 'lr=0.1' sets the learning rate to 0.1."
   ]
  },
  {
   "cell_type": "code",
   "execution_count": null,
   "metadata": {
    "id": "PQNNoewZr_DY"
   },
   "outputs": [],
   "source": [
    "criterion = nn.CrossEntropyLoss()\n",
    "optimizer = torch.optim.SGD(clf.parameters(), lr=0.1)"
   ]
  },
  {
   "cell_type": "markdown",
   "metadata": {
    "id": "WvD2BmEbL-Gp"
   },
   "source": [
    "Training the neural network classifier"
   ]
  },
  {
   "cell_type": "code",
   "execution_count": null,
   "metadata": {
    "colab": {
     "base_uri": "https://localhost:8080/"
    },
    "id": "zR6W0V6ssBGr",
    "outputId": "d86e9c71-91d3-4c27-d326-93617914eeea"
   },
   "outputs": [
    {
     "name": "stdout",
     "output_type": "stream",
     "text": [
      "[1,    17] loss: 0.00584\n",
      "[2,    17] loss: 0.00582\n",
      "[3,    17] loss: 0.00566\n",
      "[4,    17] loss: 0.00539\n",
      "[5,    17] loss: 0.00567\n",
      "[6,    17] loss: 0.00562\n",
      "[7,    17] loss: 0.00548\n",
      "[8,    17] loss: 0.00551\n",
      "[9,    17] loss: 0.00553\n",
      "[10,    17] loss: 0.00542\n",
      "[11,    17] loss: 0.00555\n",
      "[12,    17] loss: 0.00526\n",
      "[13,    17] loss: 0.00536\n",
      "[14,    17] loss: 0.00541\n",
      "[15,    17] loss: 0.00520\n",
      "[16,    17] loss: 0.00504\n",
      "[17,    17] loss: 0.00530\n",
      "[18,    17] loss: 0.00520\n",
      "[19,    17] loss: 0.00503\n",
      "[20,    17] loss: 0.00488\n",
      "[21,    17] loss: 0.00504\n",
      "[22,    17] loss: 0.00497\n",
      "[23,    17] loss: 0.00509\n",
      "[24,    17] loss: 0.00492\n",
      "[25,    17] loss: 0.00446\n",
      "[26,    17] loss: 0.00470\n",
      "[27,    17] loss: 0.00481\n",
      "[28,    17] loss: 0.00475\n",
      "[29,    17] loss: 0.00464\n",
      "[30,    17] loss: 0.00442\n",
      "[31,    17] loss: 0.00462\n",
      "[32,    17] loss: 0.00429\n",
      "[33,    17] loss: 0.00434\n",
      "[34,    17] loss: 0.00444\n",
      "[35,    17] loss: 0.00428\n",
      "[36,    17] loss: 0.00414\n",
      "[37,    17] loss: 0.00427\n",
      "[38,    17] loss: 0.00417\n",
      "[39,    17] loss: 0.00419\n",
      "[40,    17] loss: 0.00389\n",
      "[41,    17] loss: 0.00423\n",
      "[42,    17] loss: 0.00396\n",
      "[43,    17] loss: 0.00396\n",
      "[44,    17] loss: 0.00433\n",
      "[45,    17] loss: 0.00378\n",
      "[46,    17] loss: 0.00391\n",
      "[47,    17] loss: 0.00420\n",
      "[48,    17] loss: 0.00407\n",
      "[49,    17] loss: 0.00384\n",
      "[50,    17] loss: 0.00378\n",
      "[51,    17] loss: 0.00417\n",
      "[52,    17] loss: 0.00372\n",
      "[53,    17] loss: 0.00380\n",
      "[54,    17] loss: 0.00400\n",
      "[55,    17] loss: 0.00410\n",
      "[56,    17] loss: 0.00385\n",
      "[57,    17] loss: 0.00387\n",
      "[58,    17] loss: 0.00377\n",
      "[59,    17] loss: 0.00325\n",
      "[60,    17] loss: 0.00420\n",
      "[61,    17] loss: 0.00375\n",
      "[62,    17] loss: 0.00356\n",
      "[63,    17] loss: 0.00340\n",
      "[64,    17] loss: 0.00344\n",
      "[65,    17] loss: 0.00345\n",
      "[66,    17] loss: 0.00345\n",
      "[67,    17] loss: 0.00371\n",
      "[68,    17] loss: 0.00385\n",
      "[69,    17] loss: 0.00321\n",
      "[70,    17] loss: 0.00333\n",
      "[71,    17] loss: 0.00350\n",
      "[72,    17] loss: 0.00317\n",
      "[73,    17] loss: 0.00327\n",
      "[74,    17] loss: 0.00320\n",
      "[75,    17] loss: 0.00334\n",
      "[76,    17] loss: 0.00365\n",
      "[77,    17] loss: 0.00343\n",
      "[78,    17] loss: 0.00366\n",
      "[79,    17] loss: 0.00326\n",
      "[80,    17] loss: 0.00359\n",
      "[81,    17] loss: 0.00332\n",
      "[82,    17] loss: 0.00362\n",
      "[83,    17] loss: 0.00349\n",
      "[84,    17] loss: 0.00313\n",
      "[85,    17] loss: 0.00336\n",
      "[86,    17] loss: 0.00329\n",
      "[87,    17] loss: 0.00293\n",
      "[88,    17] loss: 0.00305\n",
      "[89,    17] loss: 0.00298\n",
      "[90,    17] loss: 0.00332\n",
      "[91,    17] loss: 0.00328\n",
      "[92,    17] loss: 0.00314\n",
      "[93,    17] loss: 0.00320\n",
      "[94,    17] loss: 0.00306\n",
      "[95,    17] loss: 0.00306\n",
      "[96,    17] loss: 0.00324\n",
      "[97,    17] loss: 0.00328\n",
      "[98,    17] loss: 0.00330\n",
      "[99,    17] loss: 0.00318\n",
      "[100,    17] loss: 0.00317\n",
      "[101,    17] loss: 0.00316\n",
      "[102,    17] loss: 0.00327\n",
      "[103,    17] loss: 0.00312\n",
      "[104,    17] loss: 0.00309\n",
      "[105,    17] loss: 0.00329\n",
      "[106,    17] loss: 0.00319\n",
      "[107,    17] loss: 0.00290\n",
      "[108,    17] loss: 0.00307\n",
      "[109,    17] loss: 0.00307\n",
      "[110,    17] loss: 0.00319\n",
      "[111,    17] loss: 0.00292\n",
      "[112,    17] loss: 0.00292\n",
      "[113,    17] loss: 0.00279\n",
      "[114,    17] loss: 0.00311\n",
      "[115,    17] loss: 0.00286\n",
      "[116,    17] loss: 0.00293\n",
      "[117,    17] loss: 0.00324\n",
      "[118,    17] loss: 0.00276\n",
      "[119,    17] loss: 0.00274\n",
      "[120,    17] loss: 0.00321\n",
      "[121,    17] loss: 0.00307\n",
      "[122,    17] loss: 0.00274\n",
      "[123,    17] loss: 0.00306\n",
      "[124,    17] loss: 0.00271\n",
      "[125,    17] loss: 0.00302\n",
      "[126,    17] loss: 0.00294\n",
      "[127,    17] loss: 0.00290\n",
      "[128,    17] loss: 0.00278\n",
      "[129,    17] loss: 0.00284\n",
      "[130,    17] loss: 0.00294\n",
      "[131,    17] loss: 0.00256\n",
      "[132,    17] loss: 0.00318\n",
      "[133,    17] loss: 0.00251\n",
      "[134,    17] loss: 0.00295\n",
      "[135,    17] loss: 0.00312\n",
      "[136,    17] loss: 0.00284\n",
      "[137,    17] loss: 0.00299\n",
      "[138,    17] loss: 0.00247\n",
      "[139,    17] loss: 0.00297\n",
      "[140,    17] loss: 0.00267\n",
      "[141,    17] loss: 0.00294\n",
      "[142,    17] loss: 0.00272\n",
      "[143,    17] loss: 0.00280\n",
      "[144,    17] loss: 0.00264\n",
      "[145,    17] loss: 0.00257\n",
      "[146,    17] loss: 0.00278\n",
      "[147,    17] loss: 0.00246\n",
      "[148,    17] loss: 0.00284\n",
      "[149,    17] loss: 0.00263\n",
      "[150,    17] loss: 0.00261\n",
      "[151,    17] loss: 0.00268\n",
      "[152,    17] loss: 0.00258\n",
      "[153,    17] loss: 0.00237\n",
      "[154,    17] loss: 0.00270\n",
      "[155,    17] loss: 0.00293\n",
      "[156,    17] loss: 0.00280\n",
      "[157,    17] loss: 0.00269\n",
      "[158,    17] loss: 0.00306\n",
      "[159,    17] loss: 0.00262\n",
      "[160,    17] loss: 0.00277\n",
      "[161,    17] loss: 0.00281\n",
      "[162,    17] loss: 0.00283\n",
      "[163,    17] loss: 0.00268\n",
      "[164,    17] loss: 0.00279\n",
      "[165,    17] loss: 0.00263\n",
      "[166,    17] loss: 0.00292\n",
      "[167,    17] loss: 0.00232\n",
      "[168,    17] loss: 0.00265\n",
      "[169,    17] loss: 0.00278\n",
      "[170,    17] loss: 0.00256\n",
      "[171,    17] loss: 0.00269\n",
      "[172,    17] loss: 0.00256\n",
      "[173,    17] loss: 0.00264\n",
      "[174,    17] loss: 0.00249\n",
      "[175,    17] loss: 0.00279\n",
      "[176,    17] loss: 0.00252\n",
      "[177,    17] loss: 0.00240\n",
      "[178,    17] loss: 0.00306\n",
      "[179,    17] loss: 0.00267\n",
      "[180,    17] loss: 0.00254\n",
      "[181,    17] loss: 0.00265\n",
      "[182,    17] loss: 0.00244\n",
      "[183,    17] loss: 0.00232\n",
      "[184,    17] loss: 0.00216\n",
      "[185,    17] loss: 0.00254\n",
      "[186,    17] loss: 0.00297\n",
      "[187,    17] loss: 0.00234\n",
      "[188,    17] loss: 0.00247\n",
      "[189,    17] loss: 0.00247\n",
      "[190,    17] loss: 0.00278\n",
      "[191,    17] loss: 0.00276\n",
      "[192,    17] loss: 0.00267\n",
      "[193,    17] loss: 0.00253\n",
      "[194,    17] loss: 0.00277\n",
      "[195,    17] loss: 0.00226\n",
      "[196,    17] loss: 0.00241\n",
      "[197,    17] loss: 0.00251\n",
      "[198,    17] loss: 0.00261\n",
      "[199,    17] loss: 0.00235\n",
      "[200,    17] loss: 0.00281\n",
      "[201,    17] loss: 0.00291\n",
      "[202,    17] loss: 0.00228\n",
      "[203,    17] loss: 0.00282\n",
      "[204,    17] loss: 0.00276\n",
      "[205,    17] loss: 0.00263\n",
      "[206,    17] loss: 0.00259\n",
      "[207,    17] loss: 0.00276\n",
      "[208,    17] loss: 0.00246\n",
      "[209,    17] loss: 0.00236\n",
      "[210,    17] loss: 0.00244\n",
      "[211,    17] loss: 0.00258\n",
      "[212,    17] loss: 0.00266\n",
      "[213,    17] loss: 0.00245\n",
      "[214,    17] loss: 0.00235\n",
      "[215,    17] loss: 0.00234\n",
      "[216,    17] loss: 0.00231\n",
      "[217,    17] loss: 0.00227\n",
      "[218,    17] loss: 0.00213\n",
      "[219,    17] loss: 0.00228\n",
      "[220,    17] loss: 0.00252\n",
      "[221,    17] loss: 0.00235\n",
      "[222,    17] loss: 0.00226\n",
      "[223,    17] loss: 0.00215\n",
      "[224,    17] loss: 0.00267\n",
      "[225,    17] loss: 0.00243\n",
      "[226,    17] loss: 0.00217\n",
      "[227,    17] loss: 0.00267\n",
      "[228,    17] loss: 0.00247\n",
      "[229,    17] loss: 0.00212\n",
      "[230,    17] loss: 0.00219\n",
      "[231,    17] loss: 0.00248\n",
      "[232,    17] loss: 0.00231\n",
      "[233,    17] loss: 0.00238\n",
      "[234,    17] loss: 0.00213\n",
      "[235,    17] loss: 0.00221\n",
      "[236,    17] loss: 0.00250\n",
      "[237,    17] loss: 0.00217\n",
      "[238,    17] loss: 0.00210\n",
      "[239,    17] loss: 0.00222\n",
      "[240,    17] loss: 0.00225\n",
      "[241,    17] loss: 0.00207\n",
      "[242,    17] loss: 0.00232\n",
      "[243,    17] loss: 0.00208\n",
      "[244,    17] loss: 0.00232\n",
      "[245,    17] loss: 0.00261\n",
      "[246,    17] loss: 0.00216\n",
      "[247,    17] loss: 0.00240\n",
      "[248,    17] loss: 0.00205\n",
      "[249,    17] loss: 0.00239\n",
      "[250,    17] loss: 0.00243\n",
      "[251,    17] loss: 0.00230\n",
      "[252,    17] loss: 0.00221\n",
      "[253,    17] loss: 0.00203\n",
      "[254,    17] loss: 0.00238\n",
      "[255,    17] loss: 0.00221\n",
      "[256,    17] loss: 0.00203\n",
      "[257,    17] loss: 0.00205\n",
      "[258,    17] loss: 0.00191\n",
      "[259,    17] loss: 0.00278\n",
      "[260,    17] loss: 0.00252\n",
      "[261,    17] loss: 0.00216\n",
      "[262,    17] loss: 0.00194\n",
      "[263,    17] loss: 0.00219\n",
      "[264,    17] loss: 0.00242\n",
      "[265,    17] loss: 0.00218\n",
      "[266,    17] loss: 0.00192\n",
      "[267,    17] loss: 0.00199\n",
      "[268,    17] loss: 0.00241\n",
      "[269,    17] loss: 0.00217\n",
      "[270,    17] loss: 0.00214\n",
      "[271,    17] loss: 0.00215\n",
      "[272,    17] loss: 0.00204\n",
      "[273,    17] loss: 0.00249\n",
      "[274,    17] loss: 0.00194\n",
      "[275,    17] loss: 0.00193\n",
      "[276,    17] loss: 0.00244\n",
      "[277,    17] loss: 0.00215\n",
      "[278,    17] loss: 0.00206\n",
      "[279,    17] loss: 0.00203\n",
      "[280,    17] loss: 0.00205\n",
      "[281,    17] loss: 0.00217\n",
      "[282,    17] loss: 0.00220\n",
      "[283,    17] loss: 0.00198\n",
      "[284,    17] loss: 0.00193\n",
      "[285,    17] loss: 0.00218\n",
      "[286,    17] loss: 0.00216\n",
      "[287,    17] loss: 0.00229\n",
      "[288,    17] loss: 0.00203\n",
      "[289,    17] loss: 0.00221\n",
      "[290,    17] loss: 0.00229\n",
      "[291,    17] loss: 0.00188\n",
      "[292,    17] loss: 0.00186\n",
      "[293,    17] loss: 0.00233\n",
      "[294,    17] loss: 0.00219\n",
      "[295,    17] loss: 0.00222\n",
      "[296,    17] loss: 0.00169\n",
      "[297,    17] loss: 0.00210\n",
      "[298,    17] loss: 0.00233\n",
      "[299,    17] loss: 0.00228\n",
      "[300,    17] loss: 0.00192\n"
     ]
    }
   ],
   "source": [
    "import matplotlib.pyplot as plt\n",
    "\n",
    "epochs = 300\n",
    "training_losses = []\n",
    "test_losses = []\n",
    "\n",
    "for epoch in range(epochs):\n",
    "  running_loss = 0.0\n",
    "  clf.train()  # Set the model to training mode\n",
    "  for i, data in enumerate(trainloader, 0):\n",
    "    inputs, labels = data\n",
    "    # print(inputs.shape)\n",
    "    # set optimizer to zero grad to remove previous epoch gradients\n",
    "    optimizer.zero_grad()\n",
    "    # forward propagation\n",
    "    outputs = clf(inputs)\n",
    "    loss = criterion(outputs, labels)\n",
    "    # backward propagation\n",
    "    loss.backward()\n",
    "    # optimize\n",
    "    optimizer.step()\n",
    "    running_loss += loss.item()\n",
    "  # Calculate and store the average training loss for the epoch\n",
    "  avg_train_loss = running_loss / len(trainloader)\n",
    "  training_losses.append(avg_train_loss)\n",
    "\n",
    "  # calculate the test loss\n",
    "  running_test_loss = 0.0\n",
    "  clf.eval()  # Set the model to evaluation mode\n",
    "  with torch.no_grad():\n",
    "      for data in testloader:\n",
    "          inputs, labels = data\n",
    "          outputs = clf(inputs)\n",
    "          loss = criterion(outputs, labels)\n",
    "          running_test_loss += loss.item()\n",
    "  avg_test_loss = running_test_loss / len(testloader)\n",
    "  test_losses.append(avg_test_loss)\n",
    "  # display statistics\n",
    "\n",
    "  print(f'[{epoch + 1}, {i + 1:5d}] loss: {running_loss / 2000:.5f}')"
   ]
  },
  {
   "cell_type": "code",
   "execution_count": null,
   "metadata": {
    "colab": {
     "base_uri": "https://localhost:8080/",
     "height": 564
    },
    "id": "7AYrHjLUsDm7",
    "outputId": "642a35a6-2cc7-4bef-c884-2d730f0ef440"
   },
   "outputs": [
    {
     "data": {
      "image/png": "[encoded data removed]",
      "text/plain": [
       "<Figure size 1000x600 with 1 Axes>"
      ]
     },
     "metadata": {},
     "output_type": "display_data"
    }
   ],
   "source": [
    "# Plot the training and test losses\n",
    "plt.figure(figsize=(10, 6))\n",
    "plt.plot(range(1, epochs + 1), training_losses, label='Training Loss')\n",
    "plt.plot(range(1, epochs + 1), test_losses, label='Test Loss')\n",
    "plt.title('Training and Test Loss')\n",
    "plt.xlabel('Epochs')\n",
    "plt.ylabel('Loss')\n",
    "plt.legend()\n",
    "plt.show()"
   ]
  },
  {
   "cell_type": "code",
   "execution_count": null,
   "metadata": {
    "id": "0a0Lc04dH_Ne"
   },
   "outputs": [],
   "source": [
    "# save the trained model\n",
    "PATH = './mymodel.pth'\n",
    "torch.save(clf.state_dict(), PATH)"
   ]
  },
  {
   "cell_type": "markdown",
   "metadata": {
    "id": "6e__-xS8sFUn"
   },
   "source": [
    "#Saving the trained model"
   ]
  },
  {
   "cell_type": "code",
   "execution_count": null,
   "metadata": {
    "colab": {
     "base_uri": "https://localhost:8080/"
    },
    "id": "ucH-InsxsJwW",
    "outputId": "9076b4a8-8b7b-4557-9e9f-086e21934201"
   },
   "outputs": [
    {
     "data": {
      "text/plain": [
       "<All keys matched successfully>"
      ]
     },
     "execution_count": 21,
     "metadata": {},
     "output_type": "execute_result"
    }
   ],
   "source": [
    "clf = Network()\n",
    "clf.load_state_dict(torch.load(PATH))"
   ]
  },
  {
   "cell_type": "markdown",
   "metadata": {
    "id": "V2kh3d9ZsLuv"
   },
   "source": [
    "#Testing the trained model\n",
    "We are testing the trained model in single mini-batch set to 16"
   ]
  },
  {
   "cell_type": "code",
   "execution_count": null,
   "metadata": {
    "id": "6HsMrFe4sT2H"
   },
   "outputs": [],
   "source": [
    "testdata = Data(X_test, y_test)\n",
    "testloader = DataLoader(testdata, batch_size=batch_size,\n",
    "                        shuffle=True, num_workers=2)"
   ]
  },
  {
   "cell_type": "code",
   "execution_count": null,
   "metadata": {
    "id": "x5W1zV94sUwE"
   },
   "outputs": [],
   "source": [
    "dataiter = iter(testloader)\n",
    "inputs, labels = next(dataiter)"
   ]
  },
  {
   "cell_type": "markdown",
   "metadata": {
    "id": "ernCLW0lsWB8"
   },
   "source": [
    "Test inputs will look like the following"
   ]
  },
  {
   "cell_type": "code",
   "execution_count": null,
   "metadata": {
    "colab": {
     "base_uri": "https://localhost:8080/"
    },
    "id": "pjaPPFVTsXhW",
    "outputId": "882f9f54-b7fd-46e8-ab6e-22c0cbd94aea"
   },
   "outputs": [
    {
     "name": "stdout",
     "output_type": "stream",
     "text": [
      "tensor([[ 1.0000,  0.0000,  0.4364, -0.1273,  0.5818, -0.1454,  0.1818, -0.6727,\n",
      "          0.3455, -0.0364,  0.2909, -0.0545,  0.2909,  0.2909,  0.3636, -0.4182,\n",
      "          0.2000, -0.0182,  0.3636,  0.0545,  0.1273,  0.4909,  0.6182,  0.1636,\n",
      "          0.3273,  0.1636,  0.4110, -0.0703,  0.3455, -0.0545,  0.1273, -0.3636,\n",
      "          0.2909, -0.2909],\n",
      "        [ 1.0000,  0.0000,  0.7485, -0.0281,  0.6568, -0.0518,  0.8062,  0.0281,\n",
      "          0.8595,  0.0251,  0.6346,  0.0873,  0.7160,  0.0784,  0.7308,  0.0518,\n",
      "          0.7855, -0.2781,  0.6598, -0.0148,  0.7870,  0.0695,  0.3462, -0.1864,\n",
      "          0.6539,  0.0281,  0.6101, -0.0664,  0.5355, -0.2115,  0.5902, -0.1405,\n",
      "          0.5636,  0.0296],\n",
      "        [ 1.0000,  0.0000,  1.0000,  0.0838,  1.0000,  0.1739,  1.0000, -0.1331,\n",
      "          0.9817,  0.6452,  1.0000,  0.4790,  1.0000,  0.5911,  1.0000,  0.7076,\n",
      "          1.0000,  0.8278,  1.0000,  0.9510,  1.0000,  1.0000,  0.9804,  1.0000,\n",
      "          0.9162,  1.0000,  0.8390,  1.0000,  0.7482,  1.0000,  0.6436,  1.0000,\n",
      "          0.5248,  1.0000],\n",
      "        [ 0.0000,  0.0000, -1.0000, -1.0000,  1.0000, -1.0000, -1.0000,  1.0000,\n",
      "          0.0000,  0.0000,  1.0000, -1.0000,  1.0000, -1.0000,  0.0000,  0.0000,\n",
      "          0.0000,  0.0000,  0.0000,  0.0000, -1.0000,  1.0000,  1.0000, -1.0000,\n",
      "         -1.0000,  1.0000,  1.0000,  1.0000,  0.0000,  0.0000,  1.0000,  0.5000,\n",
      "          0.0000,  0.0000],\n",
      "        [ 1.0000,  0.0000,  1.0000,  0.0246,  0.9967,  0.0486,  0.9754,  0.0714,\n",
      "          0.6174, -1.0000,  0.9104,  0.1115,  0.8846,  0.5364,  0.8208,  0.1414,\n",
      "          0.7693,  0.1519,  1.0000,  0.4100,  0.6585,  0.1637,  0.6014,  0.1652,\n",
      "          0.5445,  0.1639,  0.4887,  0.1602,  0.4348,  0.1544,  0.3835,  0.1468,\n",
      "          1.0000,  1.0000],\n",
      "        [ 1.0000,  0.0000,  0.8777, -0.0815,  0.8342,  0.0734,  0.8478,  0.0408,\n",
      "          0.7717, -0.0217,  0.7717, -0.0571,  0.8234, -0.1060,  0.6794, -0.0054,\n",
      "          0.8804, -0.2092,  0.8342,  0.0326,  0.8641, -0.0598,  0.9728, -0.2799,\n",
      "          0.8505, -0.1875,  0.8371, -0.1021,  0.8587, -0.0326,  0.7853, -0.1087,\n",
      "          0.7908, -0.0054],\n",
      "        [ 1.0000,  0.0000,  0.9882,  0.0219,  0.9310,  0.3410,  0.8390,  0.3522,\n",
      "          0.7471,  0.4891,  0.7358,  0.5188,  0.5508,  0.6018,  0.4313,  0.6624,\n",
      "          0.3180,  0.7044,  0.2838,  0.6887,  0.0751,  0.7370,  0.0634,  0.7128,\n",
      "         -0.1649,  0.6971, -0.1656,  0.6051, -0.1621,  0.5580, -0.3472,  0.4419,\n",
      "         -0.3348,  0.3747],\n",
      "        [ 1.0000,  0.0000,  0.9520,  0.0225,  0.9376, -0.0127,  0.9353,  0.0121,\n",
      "          0.9671, -0.0173,  0.9694,  0.0052,  0.9567, -0.0306,  0.9526, -0.0041,\n",
      "          0.9948, -0.0266,  0.9977,  0.0179,  0.9358, -0.0497,  0.9381, -0.0237,\n",
      "          0.9705, -0.0445,  0.9621, -0.0165,  0.9740,  0.0191,  0.9543, -0.0341,\n",
      "          0.9584,  0.0081],\n",
      "        [ 1.0000,  0.0000,  0.8703,  0.4697,  0.5394,  0.8216,  0.1038,  0.9528,\n",
      "         -0.3803,  0.8792, -0.7394,  0.5823, -0.9210,  0.1673, -0.8242, -0.2494,\n",
      "         -0.5938, -0.6334, -0.2401, -0.8288,  0.1882, -0.7870,  0.5156, -0.5743,\n",
      "          0.6927, -0.2484,  0.6910,  0.1048,  0.5280,  0.3976,  0.2597,  0.5657,\n",
      "         -0.0674,  0.5755],\n",
      "        [ 0.0000,  0.0000,  1.0000,  1.0000,  1.0000, -1.0000,  1.0000, -1.0000,\n",
      "          1.0000,  1.0000,  0.0000,  0.0000,  1.0000, -1.0000,  0.0000,  0.0000,\n",
      "          0.0000,  0.0000,  0.0000,  0.0000, -1.0000,  1.0000,  1.0000,  1.0000,\n",
      "          0.0000,  0.0000,  1.0000,  1.0000,  0.0000,  0.0000, -1.0000, -1.0000,\n",
      "          0.0000,  0.0000],\n",
      "        [ 1.0000,  0.0000,  0.4734,  0.1953,  0.0621, -0.1834,  0.6232,  0.0101,\n",
      "          0.4556, -0.0444,  0.5651,  0.0178,  0.4467,  0.2752,  0.7160, -0.0385,\n",
      "          0.5562,  0.1243,  0.4142,  0.1154,  0.5277,  0.0284,  0.5118, -0.1065,\n",
      "          0.4793, -0.0237,  0.4651,  0.0326,  0.5355,  0.2515,  0.3195, -0.1450,\n",
      "          0.3462, -0.0030],\n",
      "        [ 1.0000,  0.0000,  0.7408,  0.0497,  0.7907,  0.0254,  0.7857,  0.0379,\n",
      "          0.6623,  0.0995,  0.6780,  0.3115,  0.7593,  0.0735,  0.7469,  0.0844,\n",
      "          0.7068, -0.0785,  0.6361,  0.0000,  0.7002,  0.1135,  0.6818,  0.1218,\n",
      "          0.6702,  0.1544,  0.6416,  0.1361,  0.6571,  0.1754,  0.5976,  0.1470,\n",
      "          0.5745,  0.1511],\n",
      "        [ 1.0000,  0.0000, -1.0000,  1.0000, -1.0000,  0.1524,  0.2835,  1.0000,\n",
      "         -1.0000,  1.0000, -1.0000, -1.0000,  1.0000,  1.0000, -1.0000, -0.2348,\n",
      "          0.2830, -1.0000,  1.0000,  1.0000, -0.3140, -1.0000, -1.0000, -1.0000,\n",
      "          1.0000, -1.0000, -1.0000, -0.0358,  1.0000, -1.0000, -1.0000, -0.3232,\n",
      "          0.1494,  1.0000],\n",
      "        [ 1.0000,  0.0000,  0.3535, -0.1377,  0.6939, -0.0242,  0.6819, -0.0357,\n",
      "          0.5572, -0.0612,  0.6184, -0.1047,  0.6210, -0.0653,  0.5936, -0.0729,\n",
      "          0.4227, -0.2641,  0.5821,  0.0499,  0.4974, -0.0877,  0.4624, -0.0899,\n",
      "          0.4501, -0.0056,  0.3915, -0.0904,  0.3559, -0.1031,  0.3223, -0.0864,\n",
      "          0.2894, -0.0830],\n",
      "        [ 1.0000,  0.0000,  0.5000,  0.0000,  0.3870,  0.1044,  0.4913,  0.0652,\n",
      "          0.4696, -0.0391,  0.3565, -0.1261,  0.4565,  0.0478,  0.5044,  0.0261,\n",
      "          0.3565,  0.1956,  0.4217,  0.1478,  0.4217, -0.0261,  0.3217, -0.1130,\n",
      "          0.4739, -0.0087,  0.4179,  0.0691,  0.3870,  0.0391,  0.3522,  0.1478,\n",
      "          0.4478,  0.1739],\n",
      "        [ 1.0000,  0.0000,  1.0000,  1.0000,  1.0000,  1.0000,  0.9101,  1.0000,\n",
      "         -0.2697,  1.0000, -0.8315,  1.0000, -1.0000,  1.0000, -1.0000,  0.7253,\n",
      "         -1.0000, -0.5778, -1.0000, -0.4205, -1.0000, -1.0000, -0.5284, -1.0000,\n",
      "          0.9001, -1.0000,  1.0000, -1.0000,  1.0000, -1.0000,  1.0000, -0.3469,\n",
      "          1.0000,  0.3485]])\n"
     ]
    }
   ],
   "source": [
    "print(inputs)"
   ]
  },
  {
   "cell_type": "code",
   "execution_count": null,
   "metadata": {
    "colab": {
     "base_uri": "https://localhost:8080/"
    },
    "id": "Vpboug63sY0m",
    "outputId": "dba84001-7cfe-4b2d-9a64-7bc0b9f5093d"
   },
   "outputs": [
    {
     "name": "stdout",
     "output_type": "stream",
     "text": [
      "tensor([0, 1, 1, 0, 0, 1, 1, 1, 1, 0, 1, 1, 0, 1, 1, 1])\n"
     ]
    }
   ],
   "source": [
    "#test labels\n",
    "print(labels)"
   ]
  },
  {
   "cell_type": "code",
   "execution_count": null,
   "metadata": {
    "colab": {
     "base_uri": "https://localhost:8080/"
    },
    "id": "-DagPsfRsaAw",
    "outputId": "f5e3f620-4c73-4d4a-e046-d827d9d60961"
   },
   "outputs": [
    {
     "name": "stdout",
     "output_type": "stream",
     "text": [
      "tensor([1, 1, 1, 0, 1, 1, 1, 1, 1, 0, 1, 1, 1, 1, 1, 1])\n"
     ]
    }
   ],
   "source": [
    "outputs = clf(inputs)\n",
    "__, predicted = torch.max(outputs, 1)\n",
    "print(predicted)"
   ]
  },
  {
   "cell_type": "markdown",
   "metadata": {
    "id": "GeeIGocwsepY"
   },
   "source": [
    "#Calculate Accuracy"
   ]
  },
  {
   "cell_type": "code",
   "execution_count": null,
   "metadata": {
    "colab": {
     "base_uri": "https://localhost:8080/"
    },
    "id": "_yXsGXghscbx",
    "outputId": "2db8adec-d4b7-48fd-9333-7e978aac667e"
   },
   "outputs": [
    {
     "name": "stdout",
     "output_type": "stream",
     "text": [
      "Accuracy of the network on the 88 test data: 94 %\n"
     ]
    }
   ],
   "source": [
    "correct, total = 0, 0\n",
    "# no need to calculate gradients during inference\n",
    "with torch.no_grad():\n",
    "  for data in testloader:\n",
    "    inputs, labels = data\n",
    "    # calculate output by running through the network\n",
    "    outputs = clf(inputs)\n",
    "    # get the predictions\n",
    "    __, predicted = torch.max(outputs.data, 1)\n",
    "    # update results\n",
    "    total += labels.size(0)\n",
    "    correct += (predicted == labels).sum().item()\n",
    "print(f'Accuracy of the network on the {len(testdata)} test data: {100 * correct // total} %')"
   ]
  },
  {
   "cell_type": "markdown",
   "metadata": {
    "id": "A6jz3ARyohWH"
   },
   "source": [
    "### The overall accuracy of the network that we got is 94% which we are pretty happy with. Compared to UCI Ionosphere Dataset, our designed neural network model beat or matched all the other baseline models performance. The baseline neural network classification accuracy was an average of only 87.5% and logistic regression was even lower at 79.5% accuracy."
   ]
  },
  {
   "cell_type": "markdown",
   "metadata": {
    "id": "FPcIhJXApqSI"
   },
   "source": [
    "##CONCLUSION & DOCUMENTING THE RESULTS\n",
    "## APPLYING LINEAR REGRESSION\n",
    "The MSE and r2 values for applying linear regression on the BMI and BP sections only of the scikit Diabetes database are shown below. After Testing against the test set, we get an MSE score of 2418 which is fairly large but again we are only using 2 feaures out of 10. We are also seeing an r2 score of 0.5.\n",
    "\n",
    "## CONSTRUCTIOING A MULTILAYER PERCEPTRON\n",
    "The MSE and loss values for constructing our own multilayer perceptron on the on the BMI and BP sections only of the scikit Diabetes database are shown below.After Testing against the test set, we get an MSE score of 20822 which is fairly large but again we are only using 2 feaures out of 10 on a self-designed network. We are also seeing a test loss of 478913.\n",
    "\n",
    "## CLASSIFICATION, CONSTRUCTING A MODEL, AND TUNING A MODEL\n",
    "After building the network out and setting aside some testing data, 88 samples to test on to be exact, the overall accuracy for the neural network model we designed for the UCI Ionosphere data set is 94%.\n"
   ]
  },
  {
   "cell_type": "code",
   "execution_count": null,
   "metadata": {},
   "outputs": [],
   "source": []
  }
 ],
 "metadata": {
  "colab": {
   "provenance": []
  },
  "kernelspec": {
   "display_name": "Python 3 (ipykernel)",
   "language": "python",
   "name": "python3"
  },
  "language_info": {
   "codemirror_mode": {
    "name": "ipython",
    "version": 3
   },
   "file_extension": ".py",
   "mimetype": "text/x-python",
   "name": "python",
   "nbconvert_exporter": "python",
   "pygments_lexer": "ipython3",
   "version": "3.10.9"
  }
 },
 "nbformat": 4,
 "nbformat_minor": 1
}
